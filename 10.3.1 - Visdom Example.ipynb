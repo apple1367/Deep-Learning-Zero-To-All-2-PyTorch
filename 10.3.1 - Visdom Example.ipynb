{
 "cells": [
  {
   "cell_type": "markdown",
   "source": [
    "# Lab 10.3.1 Visdom Example\r\n",
    "\r\n",
    "Edited By Steve Ive\r\n",
    "\r\n",
    "Here, we are going to learn about the usage of the Visdom, which is the tool to visualize the graphs and other various things during experiment.\r\n",
    "\r\n",
    "You can find more about here:\r\n",
    "\r\n",
    "https://pypi.org/project/visdom/\r\n",
    "\r\n",
    "Reference From \r\n",
    "\r\n",
    "https://github.com/deeplearningzerotoall/PyTorch/blob/master/lab-10_3_1_visdom-example.ipynb"
   ],
   "metadata": {}
  },
  {
   "cell_type": "markdown",
   "source": [
    "## Imports"
   ],
   "metadata": {}
  },
  {
   "cell_type": "code",
   "execution_count": 1,
   "source": [
    "import torch\r\n",
    "import torch.nn as nn\r\n",
    "import torch.nn.functional as F\r\n",
    "import torchvision.datasets as datasets\r\n",
    "import torchvision.transforms as transforms"
   ],
   "outputs": [],
   "metadata": {}
  },
  {
   "cell_type": "markdown",
   "source": [
    "## Import Visdom\r\n",
    "\r\n",
    "Jupyter Notebook > Terminal\r\n",
    "\r\n",
    "Type ```python -m visdom.server```"
   ],
   "metadata": {}
  },
  {
   "cell_type": "code",
   "execution_count": 2,
   "source": [
    "import visdom\r\n",
    "vis = visdom.Visdom()"
   ],
   "outputs": [
    {
     "output_type": "stream",
     "name": "stderr",
     "text": [
      "Setting up a new session...\n"
     ]
    }
   ],
   "metadata": {}
  },
  {
   "cell_type": "markdown",
   "source": [
    "## Text"
   ],
   "metadata": {}
  },
  {
   "cell_type": "code",
   "execution_count": 3,
   "source": [
    "vis.text(\"Hello, world\", env=\"main\")"
   ],
   "outputs": [
    {
     "output_type": "execute_result",
     "data": {
      "text/plain": [
       "'window_39d440e5bf1724'"
      ]
     },
     "metadata": {},
     "execution_count": 3
    }
   ],
   "metadata": {}
  },
  {
   "cell_type": "markdown",
   "source": [
    "### Take a Moment!\r\n",
    "\r\n",
    "**TORCH.RANDN**\r\n",
    "\r\n",
    "torch.randn(*size, *, out=None, dtype=None, layout=torch.strided, device=None, requires_grad=False) → Tensor\r\n",
    "\r\n",
    "Returns a tensor filled with random numbers from a normal distribution with mean 0 and variance 1 (also called the standard normal distribution).\r\n",
    "\r\n",
    "out(i)∼N(0,1)\r\n",
    " \r\n",
    "The shape of the tensor is defined by the variable argument ```size```.\r\n",
    "\r\n",
    "**Parameters**\r\n",
    "> **size** (int...) – a sequence of integers defining the shape of the output tensor. Can be a variable number of arguments or a collection like a list or tuple.\r\n",
    "\r\n",
    "**Keyword Arguments**\r\n",
    "> - **generator** (torch.Generator, optional) – a pseudorandom number generator for sampling\r\n",
    "\r\n",
    "> - **out** (Tensor, optional) – the output tensor.\r\n",
    "\r\n",
    "> - **dtype** (torch.dtype, optional) – the desired data type of returned tensor. Default: if None, uses a global default (see torch.set_default_tensor_type()).\r\n",
    "\r\n",
    "> - **layout** (torch.layout, optional) – the desired layout of returned Tensor. Default: torch.strided.\r\n",
    "\r\n",
    "> - **device** (torch.device, optional) – the desired device of returned tensor. Default: if None, uses the current device for the default tensor type (see torch.set_default_tensor_type()). device will be the CPU for CPU tensor types and the current CUDA device for CUDA tensor types.\r\n",
    "\r\n",
    "> - **requires_grad** (bool, optional) – If autograd should record operations on the returned tensor. Default: False.\r\n",
    "\r\n",
    "Example:\r\n",
    "\r\n",
    "```\r\n",
    ">>> torch.randn(4)\r\n",
    "tensor([-2.1436,  0.9966,  2.3426, -0.6366])\r\n",
    ">>> torch.randn(2, 3)\r\n",
    "tensor([[ 1.5954,  2.8929, -1.0923],\r\n",
    "        [ 1.1719, -0.4709, -0.1996]])\r\n",
    "```"
   ],
   "metadata": {}
  },
  {
   "cell_type": "markdown",
   "source": [
    "## Image"
   ],
   "metadata": {}
  },
  {
   "cell_type": "code",
   "execution_count": 4,
   "source": [
    "a = torch.randn(3, 200, 200)\r\n",
    "vis.image(a)"
   ],
   "outputs": [
    {
     "output_type": "execute_result",
     "data": {
      "text/plain": [
       "'window_39d440e5cab6b0'"
      ]
     },
     "metadata": {},
     "execution_count": 4
    }
   ],
   "metadata": {}
  },
  {
   "cell_type": "markdown",
   "source": [
    "### Take a Moment!\r\n",
    "\r\n",
    "## Q What is the difference between torch.tensor and torch.Tensor?\r\n",
    "\r\n",
    "Since version 0.4.0, it is possible to use torch.tensor and torch.Tensor\r\n",
    "\r\n",
    "What is the difference? What was the reasoning for providing these two very similar and confusing alternatives?\r\n",
    "\r\n",
    "## A\r\n",
    "\r\n",
    "In PyTorch torch.Tensor is the main tensor class. So all tensors are just instances of torch.Tensor.\r\n",
    "\r\n",
    "When you call torch.Tensor() you will get an empty tensor without any data.\r\n",
    "\r\n",
    "In contrast torch.tensor is a function which returns a tensor. In the documentation it says:\r\n",
    "\r\n",
    "torch.tensor(data, dtype=None, device=None, requires_grad=False) → Tensor\r\n",
    "Constructs a tensor with data.\r\n",
    "\r\n",
    "This also also explains why it is no problem creating an empty tensor instance of `torch.Tensor` without `data` by calling:\r\n",
    "tensor_without_data = torch.Tensor()\r\n",
    "But on the other side:\r\n",
    "\r\n",
    "```tensor_without_data = torch.tensor()```\r\n",
    "\r\n",
    "Will lead to an error:\r\n",
    "\r\n",
    "```---------------------------------------------------------------------------\r\n",
    "TypeError                                 Traceback (most recent call last)\r\n",
    "<ipython-input-12-ebc3ceaa76d2> in <module>()\r\n",
    "----> 1 torch.tensor()\r\n",
    "\r\n",
    "TypeError: tensor() missing 1 required positional arguments: \"data\"\r\n",
    "```\r\n",
    "\r\n",
    "But in general there is no reason to choose `torch.Tensor` over `torch.tensor`. Also `torch.Tensor` lacks a docstring.\r\n",
    "Similar behaviour for creating a tensor without data like with: torch.Tensor() can be achieved using:\r\n",
    "\r\n",
    "```torch.tensor(())```\r\n",
    "\r\n",
    "Output:\r\n",
    "\r\n",
    "```tensor([])```"
   ],
   "metadata": {}
  },
  {
   "cell_type": "markdown",
   "source": [
    "## Images"
   ],
   "metadata": {}
  },
  {
   "cell_type": "code",
   "execution_count": 5,
   "source": [
    "vis.images(torch.Tensor(3,3,28,28))"
   ],
   "outputs": [
    {
     "output_type": "execute_result",
     "data": {
      "text/plain": [
       "'window_39d440e5d0187a'"
      ]
     },
     "metadata": {},
     "execution_count": 5
    }
   ],
   "metadata": {}
  },
  {
   "cell_type": "markdown",
   "source": [
    "## Example (using MNIST and CIFAR10)"
   ],
   "metadata": {}
  },
  {
   "cell_type": "code",
   "execution_count": 6,
   "source": [
    "MNIST = datasets.MNIST(root = 'MNIST_data/', \r\n",
    "                       download = True, \r\n",
    "                       transform = transforms.ToTensor(),\r\n",
    "                       train = True)\r\n",
    "cifar10 = datasets.CIFAR10(root = 'cifar10/', \r\n",
    "                           download = True, \r\n",
    "                           transform = transforms.ToTensor(),\r\n",
    "                           train = True)"
   ],
   "outputs": [
    {
     "output_type": "stream",
     "name": "stderr",
     "text": [
      "C:\\Users\\buddhalight\\envs\\buddhalight\\lib\\site-packages\\torchvision\\datasets\\mnist.py:498: UserWarning: The given NumPy array is not writeable, and PyTorch does not support non-writeable tensors. This means you can write to the underlying (supposedly non-writeable) NumPy array using the tensor. You may want to copy the array to protect its data or make it writeable before converting it to a tensor. This type of warning will be suppressed for the rest of this program. (Triggered internally at  ..\\torch\\csrc\\utils\\tensor_numpy.cpp:180.)\n",
      "  return torch.from_numpy(parsed.astype(m[2], copy=False)).view(*s)\n"
     ]
    },
    {
     "output_type": "stream",
     "name": "stdout",
     "text": [
      "Files already downloaded and verified\n"
     ]
    }
   ],
   "metadata": {}
  },
  {
   "cell_type": "markdown",
   "source": [
    "### CIFAR10"
   ],
   "metadata": {}
  },
  {
   "cell_type": "code",
   "execution_count": 7,
   "source": [
    "data = cifar10.__getitem__(0)\r\n",
    "print(data[0].shape)\r\n",
    "vis.image(data[0], env = 'main')"
   ],
   "outputs": [
    {
     "output_type": "stream",
     "name": "stdout",
     "text": [
      "torch.Size([3, 32, 32])\n"
     ]
    },
    {
     "output_type": "execute_result",
     "data": {
      "text/plain": [
       "'window_39d440e64faa3c'"
      ]
     },
     "metadata": {},
     "execution_count": 7
    }
   ],
   "metadata": {}
  },
  {
   "cell_type": "markdown",
   "source": [
    "### MNIST"
   ],
   "metadata": {}
  },
  {
   "cell_type": "code",
   "execution_count": 8,
   "source": [
    "data = MNIST.__getitem__(0)\r\n",
    "print(data[0].shape) #make this since data is tuple of (X, Y)\r\n",
    "vis.image(data[0], env = \"main\")"
   ],
   "outputs": [
    {
     "output_type": "stream",
     "name": "stdout",
     "text": [
      "torch.Size([1, 28, 28])\n"
     ]
    },
    {
     "output_type": "execute_result",
     "data": {
      "text/plain": [
       "'window_39d440e658134c'"
      ]
     },
     "metadata": {},
     "execution_count": 8
    }
   ],
   "metadata": {}
  },
  {
   "cell_type": "markdown",
   "source": [
    "### Check dataset"
   ],
   "metadata": {}
  },
  {
   "cell_type": "code",
   "execution_count": 9,
   "source": [
    "data_loader = torch.utils.data.DataLoader(dataset = MNIST,\r\n",
    "                                          shuffle = False,\r\n",
    "                                          drop_last = True,\r\n",
    "                                          batch_size = 32)"
   ],
   "outputs": [],
   "metadata": {}
  },
  {
   "cell_type": "code",
   "execution_count": 10,
   "source": [
    "for num, value in enumerate(data_loader):\r\n",
    "    #print(value) tuple of (datas, labels)\r\n",
    "    value = value[0] # get only datas\r\n",
    "    print(value.shape)\r\n",
    "    vis.images(value)\r\n",
    "    break"
   ],
   "outputs": [
    {
     "output_type": "stream",
     "name": "stdout",
     "text": [
      "torch.Size([32, 1, 28, 28])\n"
     ]
    }
   ],
   "metadata": {}
  },
  {
   "cell_type": "code",
   "execution_count": 11,
   "source": [
    "vis.close(env=\"main\")"
   ],
   "outputs": [
    {
     "output_type": "execute_result",
     "data": {
      "text/plain": [
       "''"
      ]
     },
     "metadata": {},
     "execution_count": 11
    }
   ],
   "metadata": {}
  },
  {
   "cell_type": "code",
   "execution_count": 19,
   "source": [
    "Y_data = torch.randn(5)\r\n",
    "plt = vis.line(Y = Y_data)"
   ],
   "outputs": [],
   "metadata": {}
  },
  {
   "cell_type": "markdown",
   "source": [
    "## Line Plot"
   ],
   "metadata": {}
  },
  {
   "cell_type": "code",
   "execution_count": 20,
   "source": [
    "X_data = torch.Tensor([1,2,3,4,5])\r\n",
    "plt = vis.line(Y=Y_data, X = X_data)"
   ],
   "outputs": [],
   "metadata": {}
  },
  {
   "cell_type": "markdown",
   "source": [
    "## Line Update"
   ],
   "metadata": {}
  },
  {
   "cell_type": "code",
   "execution_count": 21,
   "source": [
    "Y_append = torch.randn(1)\r\n",
    "X_append = torch.Tensor([6])\r\n",
    "\r\n",
    "vis.line(Y = Y_append, X =X_append, win=plt, update=\"append\")"
   ],
   "outputs": [
    {
     "output_type": "execute_result",
     "data": {
      "text/plain": [
       "'window_39d440fe7ffc4e'"
      ]
     },
     "metadata": {},
     "execution_count": 21
    }
   ],
   "metadata": {}
  },
  {
   "cell_type": "markdown",
   "source": [
    "## Multiple Line on Single Windows"
   ],
   "metadata": {}
  },
  {
   "cell_type": "code",
   "execution_count": 25,
   "source": [
    "num = torch.Tensor(list(range(0, 10)))\r\n",
    "num = num.view(-1 ,1)\r\n",
    "num = torch.cat((num, num), dim = 1)\r\n",
    "\r\n",
    "plt = vis.line(Y = torch.randn(10, 2), X = num)"
   ],
   "outputs": [],
   "metadata": {}
  },
  {
   "cell_type": "markdown",
   "source": [
    "## Line info"
   ],
   "metadata": {}
  },
  {
   "cell_type": "code",
   "execution_count": 26,
   "source": [
    "plt = vis.line(Y = Y_data, X = X_data, opts = dict(title = 'Test', showlegend = True))"
   ],
   "outputs": [],
   "metadata": {}
  },
  {
   "cell_type": "code",
   "execution_count": 27,
   "source": [
    "plt = vis.line(Y=Y_data, X = X_data, opts= dict(title='Test', legend = ['no.1'], showlegend=True))"
   ],
   "outputs": [],
   "metadata": {}
  },
  {
   "cell_type": "code",
   "execution_count": 28,
   "source": [
    "plt = vis.line(Y=torch.randn(10, 2), X = num, opts=dict(title = 'Test', legend = ['no.1', 'no.2'], showlegend = True))"
   ],
   "outputs": [],
   "metadata": {}
  },
  {
   "cell_type": "markdown",
   "source": [
    "## Make Function for update line"
   ],
   "metadata": {}
  },
  {
   "cell_type": "code",
   "execution_count": 31,
   "source": [
    "def loss_tracker(loss_plot, loss_value, num):\r\n",
    "    vis.line(X=num, Y = loss_value, win = loss_plot, update = 'append')"
   ],
   "outputs": [],
   "metadata": {}
  },
  {
   "cell_type": "code",
   "execution_count": 36,
   "source": [
    "plt = vis.line(Y = torch.Tensor(1).zero_())\r\n",
    "\r\n",
    "for i in range(500):\r\n",
    "    loss = torch.randn(1) + i\r\n",
    "    loss_tracker(plt, loss, torch.Tensor([i]))"
   ],
   "outputs": [],
   "metadata": {}
  },
  {
   "cell_type": "markdown",
   "source": [
    "## Close the window"
   ],
   "metadata": {}
  },
  {
   "cell_type": "code",
   "execution_count": 37,
   "source": [
    "vis.close(env = \"main\")"
   ],
   "outputs": [
    {
     "output_type": "execute_result",
     "data": {
      "text/plain": [
       "''"
      ]
     },
     "metadata": {},
     "execution_count": 37
    },
    {
     "output_type": "stream",
     "name": "stderr",
     "text": [
      "Connection is already closed.\n",
      "[WinError 10061] No connection could be made because the target machine actively refused it\n",
      "[WinError 10061] No connection could be made because the target machine actively refused it\n",
      "[WinError 10061] No connection could be made because the target machine actively refused it\n"
     ]
    }
   ],
   "metadata": {}
  }
 ],
 "metadata": {
  "orig_nbformat": 4,
  "language_info": {
   "name": "python",
   "version": "3.8.8",
   "mimetype": "text/x-python",
   "codemirror_mode": {
    "name": "ipython",
    "version": 3
   },
   "pygments_lexer": "ipython3",
   "nbconvert_exporter": "python",
   "file_extension": ".py"
  },
  "kernelspec": {
   "name": "python3",
   "display_name": "Python 3.8.8 64-bit ('buddhalight': conda)"
  },
  "interpreter": {
   "hash": "38ed4d61829b01de31b0fe0651719916120d9f7e023a62cbbfea93b7d24a50a0"
  }
 },
 "nbformat": 4,
 "nbformat_minor": 2
}