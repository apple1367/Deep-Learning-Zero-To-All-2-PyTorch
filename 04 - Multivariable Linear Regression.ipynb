{
 "metadata": {
  "language_info": {
   "codemirror_mode": {
    "name": "ipython",
    "version": 3
   },
   "file_extension": ".py",
   "mimetype": "text/x-python",
   "name": "python",
   "nbconvert_exporter": "python",
   "pygments_lexer": "ipython3",
   "version": "3.8.8"
  },
  "orig_nbformat": 4,
  "kernelspec": {
   "name": "python3",
   "display_name": "Python 3.8.8 64-bit ('deep-learning': conda)"
  },
  "interpreter": {
   "hash": "37cc7290eaadfd237ba9edfee5f5646f2226d20dfbf33e67928708333f7a6cd3"
  }
 },
 "nbformat": 4,
 "nbformat_minor": 2,
 "cells": [
  {
   "source": [
    "# Lab 4: Multivariate Linear Regression\n",
    "\n",
    "Edited By Steve Ive\n",
    "\n",
    "Reference from Seungjae Lee\n",
    "https://github.com/deeplearningzerotoall/PyTorch/blob/master/lab-04_1_multivariable_linear_regression.ipynb"
   ],
   "cell_type": "markdown",
   "metadata": {}
  },
  {
   "source": [
    "## Theoretical Overview\n",
    "\n",
    "$ H(x_1, x_2, x_3) = x_1w_1 + x_2w_2 + x_3w_3 + b $\n",
    "\n",
    "$ cost(W, b) = \\frac{1}{m} \\sum^m_{i=1} \\left( H(x^{(i)}) - y^{(i)} \\right)^2 $\n",
    "\n",
    "- $H(x)$: How to Predict with given $x$.\n",
    "- $cost(W, b)$: How well $H(x)$ predict $y$."
   ],
   "cell_type": "markdown",
   "metadata": {}
  },
  {
   "source": [
    "## Imports"
   ],
   "cell_type": "markdown",
   "metadata": {}
  },
  {
   "cell_type": "code",
   "execution_count": 4,
   "metadata": {},
   "outputs": [],
   "source": [
    "import torch\n",
    "import torch.nn as nn\n",
    "import torch.nn.functional as F\n",
    "import torch.optim as optim"
   ]
  },
  {
   "cell_type": "code",
   "execution_count": 5,
   "metadata": {},
   "outputs": [
    {
     "output_type": "execute_result",
     "data": {
      "text/plain": [
       "<torch._C.Generator at 0x1643284d830>"
      ]
     },
     "metadata": {},
     "execution_count": 5
    }
   ],
   "source": [
    "torch.manual_seed(1)"
   ]
  },
  {
   "source": [
    "## Naive Data Representation"
   ],
   "cell_type": "markdown",
   "metadata": {}
  },
  {
   "cell_type": "code",
   "execution_count": 16,
   "metadata": {},
   "outputs": [
    {
     "output_type": "execute_result",
     "data": {
      "text/plain": [
       "' At the original Script, but, top stil working\\nx1_train = torch.FloatTensor([[73], [93], [89], [96], [73]])\\nx2_train = torch.FloatTensor([[80], [88], [91], [98], [66]])\\nx3_train = torch.FloatTensor([[75], [93], [90], [100], [70]])\\ny_train = torch.FloatTensor([[152], [185], [180], [196], [142]])\\n'"
      ]
     },
     "metadata": {},
     "execution_count": 16
    }
   ],
   "source": [
    "#Data\n",
    "\n",
    "x1_train = torch.FloatTensor([73, 93, 89, 96, 73])\n",
    "x2_train = torch.FloatTensor([80, 88, 91, 98, 66])\n",
    "x3_train = torch.FloatTensor([75, 93, 90, 100, 70])\n",
    "y_train = torch.FloatTensor([152, 185, 180, 196, 142])\n",
    "\n",
    "''' At the original Script, but, top stil working\n",
    "x1_train = torch.FloatTensor([[73], [93], [89], [96], [73]])\n",
    "x2_train = torch.FloatTensor([[80], [88], [91], [98], [66]])\n",
    "x3_train = torch.FloatTensor([[75], [93], [90], [100], [70]])\n",
    "y_train = torch.FloatTensor([[152], [185], [180], [196], [142]])\n",
    "'''"
   ]
  },
  {
   "cell_type": "code",
   "execution_count": 15,
   "metadata": {},
   "outputs": [
    {
     "output_type": "stream",
     "name": "stdout",
     "text": [
      "Epoch    0/1000 w1: 0.294 w2: 0.294 w3: 0.297 b: 0.003 Cost: 29661.800781\nEpoch  100/1000 w1: 0.674 w2: 0.661 w3: 0.676 b: 0.008 Cost: 1.563634\nEpoch  200/1000 w1: 0.679 w2: 0.655 w3: 0.677 b: 0.008 Cost: 1.497607\nEpoch  300/1000 w1: 0.684 w2: 0.649 w3: 0.677 b: 0.008 Cost: 1.435026\nEpoch  400/1000 w1: 0.689 w2: 0.643 w3: 0.678 b: 0.008 Cost: 1.375730\nEpoch  500/1000 w1: 0.694 w2: 0.638 w3: 0.678 b: 0.009 Cost: 1.319511\nEpoch  600/1000 w1: 0.699 w2: 0.633 w3: 0.679 b: 0.009 Cost: 1.266222\nEpoch  700/1000 w1: 0.704 w2: 0.627 w3: 0.679 b: 0.009 Cost: 1.215696\nEpoch  800/1000 w1: 0.709 w2: 0.622 w3: 0.679 b: 0.009 Cost: 1.167818\nEpoch  900/1000 w1: 0.713 w2: 0.617 w3: 0.680 b: 0.009 Cost: 1.122429\nEpoch 1000/1000 w1: 0.718 w2: 0.613 w3: 0.680 b: 0.009 Cost: 1.079378\n"
     ]
    }
   ],
   "source": [
    "#Model Initialize\n",
    "w1 = torch.zeros(1, requires_grad = True)\n",
    "w2 = torch.zeros(1, requires_grad = True)\n",
    "w3 = torch.zeros(1, requires_grad = True)\n",
    "b = torch.zeros(1, requires_grad = True)\n",
    "\n",
    "#Set Optimizer\n",
    "optimizer = optim.SGD([w1, w2, w3, b], lr=1e-5)\n",
    "\n",
    "nb_epochs = 1000\n",
    "\n",
    "for epoch in range(nb_epochs + 1):\n",
    "\n",
    "    #Hypothesis\n",
    "    hypothesis = x1_train * w1 + x2_train * w2 + x3_train * w3 + b\n",
    "\n",
    "    #Cost Function\n",
    "    cost = torch.mean((hypothesis - y_train)**2)\n",
    "\n",
    "    #Gradients\n",
    "    optimizer.zero_grad()\n",
    "    cost.backward()\n",
    "    optimizer.step()\n",
    "\n",
    "    if epoch % 100 == 0:\n",
    "        print('Epoch {:4d}/{} w1: {:.3f} w2: {:.3f} w3: {:.3f} b: {:.3f} Cost: {:.6f}'.format(epoch, nb_epochs, w1.item(), w2.item(), w3.item(), b.item(), cost.item()))"
   ]
  },
  {
   "source": [
    "## Matrix Data Representation\n",
    "\n",
    "$ \\begin{pmatrix} x_1 & x_2 & x_3 \\end{pmatrix} \\cdot \\begin{pmatrix} w_1 \\\\ w_2 \\\\ w_3 \\\\ \\end{pmatrix} = \\begin{pmatrix} x_1w_1 + x_2w_2 + x_3w_3 \\end{pmatrix} $\n",
    "\n",
    "$ H(X) = XW $"
   ],
   "cell_type": "markdown",
   "metadata": {}
  },
  {
   "cell_type": "code",
   "execution_count": 17,
   "metadata": {},
   "outputs": [],
   "source": [
    "x_train = torch.FloatTensor([[73, 80, 75],\n",
    "                             [93, 88, 93],\n",
    "                             [89, 91, 90],\n",
    "                             [96, 98, 100],\n",
    "                             [73, 66, 70]])\n",
    "y_train = torch.FloatTensor([[152], [185], [180], [196], [142]])"
   ]
  },
  {
   "cell_type": "code",
   "execution_count": 19,
   "metadata": {},
   "outputs": [
    {
     "output_type": "stream",
     "name": "stdout",
     "text": [
      "torch.Size([5, 3])\ntorch.Size([5, 1])\n"
     ]
    }
   ],
   "source": [
    "print(x_train.shape)\n",
    "print(y_train.shape)"
   ]
  },
  {
   "source": [
    "### Take a Moment!\n",
    "\n",
    "```tensor.detach()```\n",
    "\n",
    "tensor.detach() creates a tensor that shares storage with tensor that does not require grad. It detaches the output from the computational graph. So no gradient will be backpropagated along this variable.\n",
    "\n",
    "**StackOverflow**\n",
    "\n",
    "https://stackoverflow.com/questions/56816241/difference-between-detach-and-with-torch-nograd-in-pytorch"
   ],
   "cell_type": "markdown",
   "metadata": {}
  },
  {
   "cell_type": "code",
   "execution_count": 25,
   "metadata": {},
   "outputs": [
    {
     "output_type": "stream",
     "name": "stdout",
     "text": [
      "Epoch    0/20 Hypothesis: tensor([0., 0., 0., 0., 0.]) Cost: 29661.800781\nEpoch    1/20 Hypothesis: tensor([67.2578, 80.8397, 79.6523, 86.7394, 61.6605]) Cost: 9298.520508\nEpoch    2/20 Hypothesis: tensor([104.9128, 126.0990, 124.2466, 135.3015,  96.1821]) Cost: 2915.712891\nEpoch    3/20 Hypothesis: tensor([125.9942, 151.4381, 149.2133, 162.4896, 115.5097]) Cost: 915.040527\nEpoch    4/20 Hypothesis: tensor([137.7968, 165.6247, 163.1911, 177.7112, 126.3307]) Cost: 287.936005\nEpoch    5/20 Hypothesis: tensor([144.4044, 173.5674, 171.0168, 186.2332, 132.3891]) Cost: 91.371010\nEpoch    6/20 Hypothesis: tensor([148.1035, 178.0144, 175.3980, 191.0042, 135.7812]) Cost: 29.758139\nEpoch    7/20 Hypothesis: tensor([150.1744, 180.5042, 177.8508, 193.6753, 137.6805]) Cost: 10.445305\nEpoch    8/20 Hypothesis: tensor([151.3336, 181.8983, 179.2240, 195.1707, 138.7440]) Cost: 4.391228\nEpoch    9/20 Hypothesis: tensor([151.9824, 182.6789, 179.9928, 196.0079, 139.3396]) Cost: 2.493135\nEpoch   10/20 Hypothesis: tensor([152.3454, 183.1161, 180.4231, 196.4765, 139.6732]) Cost: 1.897688\nEpoch   11/20 Hypothesis: tensor([152.5485, 183.3610, 180.6640, 196.7389, 139.8602]) Cost: 1.710541\nEpoch   12/20 Hypothesis: tensor([152.6620, 183.4982, 180.7988, 196.8857, 139.9651]) Cost: 1.651412\nEpoch   13/20 Hypothesis: tensor([152.7253, 183.5752, 180.8742, 196.9678, 140.0240]) Cost: 1.632387\nEpoch   14/20 Hypothesis: tensor([152.7606, 183.6184, 180.9164, 197.0138, 140.0571]) Cost: 1.625923\nEpoch   15/20 Hypothesis: tensor([152.7802, 183.6427, 180.9399, 197.0395, 140.0759]) Cost: 1.623412\nEpoch   16/20 Hypothesis: tensor([152.7909, 183.6565, 180.9530, 197.0538, 140.0865]) Cost: 1.622141\nEpoch   17/20 Hypothesis: tensor([152.7968, 183.6643, 180.9603, 197.0618, 140.0927]) Cost: 1.621253\nEpoch   18/20 Hypothesis: tensor([152.7999, 183.6688, 180.9644, 197.0662, 140.0963]) Cost: 1.620500\nEpoch   19/20 Hypothesis: tensor([152.8014, 183.6715, 180.9666, 197.0686, 140.0985]) Cost: 1.619770\nEpoch   20/20 Hypothesis: tensor([152.8020, 183.6731, 180.9677, 197.0699, 140.1000]) Cost: 1.619033\n"
     ]
    }
   ],
   "source": [
    "#Model Initialize\n",
    "W = torch.zeros((3, 1), requires_grad = True)\n",
    "b = torch.zeros(1, requires_grad = True)\n",
    "\n",
    "#Set Optimizer\n",
    "\n",
    "optimizer = optim.SGD([W, b], lr=1e-5)\n",
    "\n",
    "nb_epochs = 20\n",
    "\n",
    "for epoch in range(nb_epochs + 1):\n",
    "\n",
    "    #hypothesis\n",
    "    pred = x_train.matmul(W) + b\n",
    "\n",
    "    #cost\n",
    "    cost = torch.mean((pred - y_train)**2)\n",
    "\n",
    "    print('Epoch {:4d}/{} Hypothesis: {} Cost: {:.6f}'.format(epoch, nb_epochs, pred.squeeze().detach(), cost.item()))\n",
    "\n",
    "    #reduce cost\n",
    "    optimizer.zero_grad()\n",
    "    cost.backward()\n",
    "    optimizer.step()"
   ]
  },
  {
   "source": [
    "## High-level Implementation with ```nn.Module```\n",
    "Do you remember this model?"
   ],
   "cell_type": "markdown",
   "metadata": {}
  },
  {
   "cell_type": "code",
   "execution_count": 26,
   "metadata": {},
   "outputs": [],
   "source": [
    "class LinearRegressionModel(nn.Module):\n",
    "    def __init__(self):\n",
    "        super().__init__()\n",
    "        self.linear = nn.Linear(1, 1)\n",
    "\n",
    "    def forward(self, x):\n",
    "        return self.linear(x)"
   ]
  },
  {
   "source": [
    "We just neet to change the input dimension from 1 to 3!"
   ],
   "cell_type": "markdown",
   "metadata": {}
  },
  {
   "cell_type": "code",
   "execution_count": 27,
   "metadata": {},
   "outputs": [],
   "source": [
    "class MultivariateLinearRegression(nn.Module):\n",
    "    def __init__(self):\n",
    "        super().__init__()\n",
    "        self.linear = nn.Linear(3, 1)\n",
    "\n",
    "    def forward(self, x):\n",
    "        return self.linear(x)"
   ]
  },
  {
   "cell_type": "code",
   "execution_count": 30,
   "metadata": {},
   "outputs": [
    {
     "output_type": "stream",
     "name": "stdout",
     "text": [
      "Epoch    0/20 Hypothesis: tensor([-20.5930, -30.8318, -27.2626, -29.8314, -24.8466]) Cost 39633.414062\nEpoch    1/20 Hypothesis: tensor([57.1418, 62.6022, 64.7982, 70.4206, 46.4205]) Cost 12431.273438\nEpoch    2/20 Hypothesis: tensor([100.6621, 114.9128, 116.3395, 126.5479,  86.3209]) Cost 3904.840332\nEpoch    3/20 Hypothesis: tensor([125.0270, 144.2001, 145.1954, 157.9714, 108.6602]) Cost 1232.251465\nEpoch    4/20 Hypothesis: tensor([138.6674, 160.5973, 161.3506, 175.5641, 121.1676]) Cost 394.532684\nEpoch    5/20 Hypothesis: tensor([146.3035, 169.7779, 170.3951, 185.4135, 128.1707]) Cost 131.948273\nEpoch    6/20 Hypothesis: tensor([150.5782, 174.9182, 175.4586, 190.9277, 132.0919]) Cost 49.637566\nEpoch    7/20 Hypothesis: tensor([152.9708, 177.7964, 178.2933, 194.0147, 134.2878]) Cost 23.833128\nEpoch    8/20 Hypothesis: tensor([154.3098, 179.4082, 179.8802, 195.7429, 135.5177]) Cost 15.740547\nEpoch    9/20 Hypothesis: tensor([155.0588, 180.3111, 180.7684, 196.7103, 136.2069]) Cost 13.199559\nEpoch   10/20 Hypothesis: tensor([155.4776, 180.8169, 181.2656, 197.2518, 136.5932]) Cost 12.398743\nEpoch   11/20 Hypothesis: tensor([155.7115, 181.1005, 181.5437, 197.5548, 136.8101]) Cost 12.143396\nEpoch   12/20 Hypothesis: tensor([155.8419, 181.2597, 181.6993, 197.7243, 136.9320]) Cost 12.059056\nEpoch   13/20 Hypothesis: tensor([155.9143, 181.3492, 181.7862, 197.8191, 137.0008]) Cost 12.028257\nEpoch   14/20 Hypothesis: tensor([155.9542, 181.3997, 181.8347, 197.8720, 137.0398]) Cost 12.014270\nEpoch   15/20 Hypothesis: tensor([155.9760, 181.4284, 181.8616, 197.9015, 137.0622]) Cost 12.005560\nEpoch   16/20 Hypothesis: tensor([155.9876, 181.4448, 181.8765, 197.9178, 137.0753]) Cost 11.998510\nEpoch   17/20 Hypothesis: tensor([155.9935, 181.4544, 181.8847, 197.9268, 137.0831]) Cost 11.991979\nEpoch   18/20 Hypothesis: tensor([155.9963, 181.4603, 181.8891, 197.9318, 137.0881]) Cost 11.985615\nEpoch   19/20 Hypothesis: tensor([155.9973, 181.4639, 181.8914, 197.9344, 137.0914]) Cost 11.979303\nEpoch   20/20 Hypothesis: tensor([155.9972, 181.4663, 181.8925, 197.9357, 137.0937]) Cost 11.973015\n"
     ]
    }
   ],
   "source": [
    "# Data\n",
    "\n",
    "x_train = torch.FloatTensor([[73, 80, 75],\n",
    "                             [93, 88, 93],\n",
    "                             [89, 91, 90],\n",
    "                             [96, 98, 100],\n",
    "                             [73, 66, 70]])\n",
    "y_train = torch.FloatTensor([[152], [185], [180], [196], [142]])\n",
    "\n",
    "#Model Initialize\n",
    "\n",
    "model = MultivariateLinearRegression()\n",
    "\n",
    "#Set Optimizer\n",
    "\n",
    "optimizer = optim.SGD(model.parameters(), lr=1e-5)\n",
    "\n",
    "nb_epochs = 20\n",
    "\n",
    "for epoch in range(nb_epochs + 1):\n",
    "\n",
    "    #Hypothesis\n",
    "    pred = model(x_train)\n",
    "\n",
    "    #Cost\n",
    "    cost = F.mse_loss(pred, y_train)\n",
    "\n",
    "    print('Epoch {:4d}/{} Hypothesis: {} Cost: {:.6f}'.format(epoch, nb_epochs, pred.squeeze().detach(), cost.item()))\n",
    "\n",
    "    #Reduce Cost\n",
    "    optimizer.zero_grad()\n",
    "    cost.backward()\n",
    "    optimizer.step()"
   ]
  },
  {
   "cell_type": "code",
   "execution_count": null,
   "metadata": {},
   "outputs": [],
   "source": []
  }
 ]
}