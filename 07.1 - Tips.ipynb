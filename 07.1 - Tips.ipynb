{
 "cells": [
  {
   "cell_type": "markdown",
   "source": [
    "# Lab 7-1: Tips\r\n",
    "\r\n",
    "Edited By Steve Ive\r\n",
    "\r\n",
    "Reference from Seungjae Lee\r\n",
    "\r\n",
    "At Tips, we are going to handle about the test datasets, learning rate, data preprocessing, and overfiiting.\r\n",
    "\r\n",
    "https://github.com/deeplearningzerotoall/PyTorch/blob/master/lab-07_1_tips.ipynb"
   ],
   "metadata": {}
  },
  {
   "cell_type": "code",
   "execution_count": 268,
   "source": [
    "import torch\r\n",
    "import torch.nn as nn\r\n",
    "import torch.optim as optim\r\n",
    "import torch.nn.functional as F"
   ],
   "outputs": [],
   "metadata": {}
  },
  {
   "cell_type": "code",
   "execution_count": 269,
   "source": [
    "torch.manual_seed(1)"
   ],
   "outputs": [
    {
     "output_type": "execute_result",
     "data": {
      "text/plain": [
       "<torch._C.Generator at 0x2384859d410>"
      ]
     },
     "metadata": {},
     "execution_count": 269
    }
   ],
   "metadata": {}
  },
  {
   "cell_type": "markdown",
   "source": [
    "## Training and Test Datasets\r\n",
    "\r\n",
    "Trash Data"
   ],
   "metadata": {}
  },
  {
   "cell_type": "code",
   "execution_count": 270,
   "source": [
    "x_train = torch.FloatTensor([[1, 2, 1],\r\n",
    "                             [1, 3, 2],\r\n",
    "                             [1, 3, 4],\r\n",
    "                             [1, 5, 5],\r\n",
    "                             [1, 7, 5],\r\n",
    "                             [1, 2, 5],\r\n",
    "                             [1, 6, 6],\r\n",
    "                             [1, 7, 7]\r\n",
    "                            ])\r\n",
    "\r\n",
    "y_train = torch.LongTensor([2, 2, 2, 1, 1, 1, 0, 0])"
   ],
   "outputs": [],
   "metadata": {}
  },
  {
   "cell_type": "code",
   "execution_count": 271,
   "source": [
    " x_test = torch.FloatTensor([[2, 1, 1], [3, 1, 2], [3, 3, 4]])\r\n",
    " y_test = torch.LongTensor([2, 2, 2])"
   ],
   "outputs": [],
   "metadata": {}
  },
  {
   "cell_type": "code",
   "execution_count": 272,
   "source": [
    "## Model"
   ],
   "outputs": [],
   "metadata": {}
  },
  {
   "cell_type": "code",
   "execution_count": 273,
   "source": [
    "class SoftmaxClassifierModel(nn.Module):\r\n",
    "    def __init__(self):\r\n",
    "        super().__init__()\r\n",
    "        self.linear = nn.Linear(3, 3)\r\n",
    "\r\n",
    "    def forward(self, x):\r\n",
    "        return self.linear(x)"
   ],
   "outputs": [],
   "metadata": {}
  },
  {
   "cell_type": "code",
   "execution_count": 274,
   "source": [
    "model = SoftmaxClassifierModel()"
   ],
   "outputs": [],
   "metadata": {}
  },
  {
   "cell_type": "code",
   "execution_count": 275,
   "source": [
    "#Set Optimizer\r\n",
    "optimizer = optim.SGD(model.parameters(), lr=0.1)"
   ],
   "outputs": [],
   "metadata": {}
  },
  {
   "cell_type": "code",
   "execution_count": 276,
   "source": [
    "def train(model, optimizer, x_train, y_train):\r\n",
    "    nb_epochs = 100\r\n",
    "\r\n",
    "    for epoch in range(nb_epochs + 1):\r\n",
    "        #prediction\r\n",
    "        pred = model(x_train)\r\n",
    "\r\n",
    "        #cost\r\n",
    "        cost = F.cross_entropy(pred, y_train)\r\n",
    "\r\n",
    "        #Reduce cost\r\n",
    "        optimizer.zero_grad()\r\n",
    "        cost.backward()\r\n",
    "        optimizer.step()\r\n",
    "\r\n",
    "        if epoch % 5 == 0:\r\n",
    "            print('Epoch {:d}/{} Cost: {:.6f}'.format(epoch, nb_epochs, cost))"
   ],
   "outputs": [],
   "metadata": {}
  },
  {
   "cell_type": "markdown",
   "source": [
    "### Take a Moment!\r\n",
    "\r\n",
    "**TORCH.TENSOR.MAX**\r\n",
    "\r\n",
    "Tensor.max(dim=None, keepdim=False) -> Tensor or (Tensor, Tensor)\r\n",
    "\r\n",
    "See ```torch.max()```\r\n",
    "\r\n",
    "**TORCH.MAX**\r\n",
    "\r\n",
    "torch.max(input) → Tensor\r\n",
    "\r\n",
    "Returns the maximum value of all elements in the input tensor.\r\n",
    "\r\n",
    "torch.max(input, dim, keepdim=False, *, out=None) -> (Tensor, LongTensor)\r\n",
    "\r\n",
    "***Returns a namedtuple (values, indices) where values is the maximum value of each row of the input tensor in the given dimension dim.*** And indices is the index location of each maximum value found (argmax).\r\n",
    "\r\n",
    "If keepdim is True, the output tensors are of the same size as input except in the dimension dim where they are of size 1. Otherwise, dim is squeezed (see torch.squeeze()), resulting in the output tensors having 1 fewer dimension than input.\r\n"
   ],
   "metadata": {}
  },
  {
   "cell_type": "code",
   "execution_count": 277,
   "source": [
    "def test(model, x_test, y_test):\r\n",
    "    pred = model(x_test)\r\n",
    "    predicted_class = pred.max(1)[1] # get the indicies of the maximum value of dimension 1 of the tensor\r\n",
    "    correct_count = (predicted_class == y_test).sum().item()\r\n",
    "    print(predicted_class , y_test)\r\n",
    "\r\n",
    "    #get accuracy\r\n",
    "    accuracy = correct_count / len(y_test) * 100\r\n",
    "\r\n",
    "    cost = F.cross_entropy(pred, y_test)\r\n",
    "    print('Accuracy: {}% Cost: {:.6f}'.format(accuracy, cost.item()))\r\n",
    "    "
   ],
   "outputs": [],
   "metadata": {}
  },
  {
   "cell_type": "code",
   "execution_count": 278,
   "source": [
    "train(model,optimizer, x_train, y_train)"
   ],
   "outputs": [
    {
     "output_type": "stream",
     "name": "stdout",
     "text": [
      "Epoch 0/100 Cost: 2.203667\n",
      "Epoch 5/100 Cost: 1.089523\n",
      "Epoch 10/100 Cost: 1.048378\n",
      "Epoch 15/100 Cost: 1.014279\n",
      "Epoch 20/100 Cost: 0.983424\n",
      "Epoch 25/100 Cost: 0.955295\n",
      "Epoch 30/100 Cost: 0.929585\n",
      "Epoch 35/100 Cost: 0.906033\n",
      "Epoch 40/100 Cost: 0.884410\n",
      "Epoch 45/100 Cost: 0.864517\n",
      "Epoch 50/100 Cost: 0.846174\n",
      "Epoch 55/100 Cost: 0.829224\n",
      "Epoch 60/100 Cost: 0.813527\n",
      "Epoch 65/100 Cost: 0.798958\n",
      "Epoch 70/100 Cost: 0.785406\n",
      "Epoch 75/100 Cost: 0.772773\n",
      "Epoch 80/100 Cost: 0.760971\n",
      "Epoch 85/100 Cost: 0.749921\n",
      "Epoch 90/100 Cost: 0.739554\n",
      "Epoch 95/100 Cost: 0.729807\n",
      "Epoch 100/100 Cost: 0.720624\n"
     ]
    }
   ],
   "metadata": {}
  },
  {
   "cell_type": "code",
   "execution_count": 279,
   "source": [
    "test(model, x_test, y_test)"
   ],
   "outputs": [
    {
     "output_type": "stream",
     "name": "stdout",
     "text": [
      "tensor([2, 2, 2]) tensor([2, 2, 2])\n",
      "Accuracy: 100.0% Cost: 0.156923\n"
     ]
    }
   ],
   "metadata": {}
  },
  {
   "cell_type": "markdown",
   "source": [
    "## Learning Rate\r\n",
    "$\\alpha$ of the Gradient Descent.\r\n",
    "\r\n",
    "learning rate is 0.1 at the code of ```optimizer = optim.SGD(model.parameters(), lr=0.1)```\r\n",
    "\r\n",
    "if the learning rate is too big, the cost is getting bigger as divergence (overshooting)."
   ],
   "metadata": {}
  },
  {
   "cell_type": "code",
   "execution_count": 280,
   "source": [
    "model = SoftmaxClassifierModel()"
   ],
   "outputs": [],
   "metadata": {}
  },
  {
   "cell_type": "code",
   "execution_count": 281,
   "source": [
    "optimizer = optim.SGD(model.parameters(), lr=1e5)"
   ],
   "outputs": [],
   "metadata": {}
  },
  {
   "cell_type": "code",
   "execution_count": 282,
   "source": [
    "train(model, optimizer, x_train, y_train)"
   ],
   "outputs": [
    {
     "output_type": "stream",
     "name": "stdout",
     "text": [
      "Epoch 0/100 Cost: 1.280268\n",
      "Epoch 5/100 Cost: 1968197.625000\n",
      "Epoch 10/100 Cost: 1397263.250000\n",
      "Epoch 15/100 Cost: 685818.062500\n",
      "Epoch 20/100 Cost: 200090.937500\n",
      "Epoch 25/100 Cost: 307693.093750\n",
      "Epoch 30/100 Cost: 1676443.125000\n",
      "Epoch 35/100 Cost: 1478513.250000\n",
      "Epoch 40/100 Cost: 400614.625000\n",
      "Epoch 45/100 Cost: 759541.437500\n",
      "Epoch 50/100 Cost: 1282693.125000\n",
      "Epoch 55/100 Cost: 459963.750000\n",
      "Epoch 60/100 Cost: 660331.312500\n",
      "Epoch 65/100 Cost: 422489.625000\n",
      "Epoch 70/100 Cost: 594364.625000\n",
      "Epoch 75/100 Cost: 877507.750000\n",
      "Epoch 80/100 Cost: 505302.125000\n",
      "Epoch 85/100 Cost: 816148.062500\n",
      "Epoch 90/100 Cost: 861552.125000\n",
      "Epoch 95/100 Cost: 736444.875000\n",
      "Epoch 100/100 Cost: 896298.750000\n"
     ]
    }
   ],
   "metadata": {}
  },
  {
   "cell_type": "markdown",
   "source": [
    "On the other hand, if learning rate is too small, the cost is rarely reduced."
   ],
   "metadata": {}
  },
  {
   "cell_type": "code",
   "execution_count": 283,
   "source": [
    "model = SoftmaxClassifierModel()"
   ],
   "outputs": [],
   "metadata": {}
  },
  {
   "cell_type": "code",
   "execution_count": 284,
   "source": [
    "optimizer = optim.SGD(model.parameters(), lr=1e-10)"
   ],
   "outputs": [],
   "metadata": {}
  },
  {
   "cell_type": "code",
   "execution_count": 285,
   "source": [
    "train(model, optimizer, x_train, y_train)"
   ],
   "outputs": [
    {
     "output_type": "stream",
     "name": "stdout",
     "text": [
      "Epoch 0/100 Cost: 3.187324\n",
      "Epoch 5/100 Cost: 3.187324\n",
      "Epoch 10/100 Cost: 3.187324\n",
      "Epoch 15/100 Cost: 3.187324\n",
      "Epoch 20/100 Cost: 3.187324\n",
      "Epoch 25/100 Cost: 3.187324\n",
      "Epoch 30/100 Cost: 3.187324\n",
      "Epoch 35/100 Cost: 3.187324\n",
      "Epoch 40/100 Cost: 3.187324\n",
      "Epoch 45/100 Cost: 3.187324\n",
      "Epoch 50/100 Cost: 3.187324\n",
      "Epoch 55/100 Cost: 3.187324\n",
      "Epoch 60/100 Cost: 3.187324\n",
      "Epoch 65/100 Cost: 3.187324\n",
      "Epoch 70/100 Cost: 3.187324\n",
      "Epoch 75/100 Cost: 3.187324\n",
      "Epoch 80/100 Cost: 3.187324\n",
      "Epoch 85/100 Cost: 3.187324\n",
      "Epoch 90/100 Cost: 3.187324\n",
      "Epoch 95/100 Cost: 3.187324\n",
      "Epoch 100/100 Cost: 3.187324\n"
     ]
    }
   ],
   "metadata": {}
  },
  {
   "cell_type": "markdown",
   "source": [
    "Let's start at the appropriate number of the learning rate with adjusting the cost if overshooting as small, or if not reducing as large."
   ],
   "metadata": {}
  },
  {
   "cell_type": "code",
   "execution_count": 286,
   "source": [
    "model = SoftmaxClassifierModel()"
   ],
   "outputs": [],
   "metadata": {}
  },
  {
   "cell_type": "code",
   "execution_count": 287,
   "source": [
    "optimizer = optim.SGD(model.parameters(), lr=1e-1)"
   ],
   "outputs": [],
   "metadata": {}
  },
  {
   "cell_type": "code",
   "execution_count": 288,
   "source": [
    "train(model, optimizer, x_train, y_train)"
   ],
   "outputs": [
    {
     "output_type": "stream",
     "name": "stdout",
     "text": [
      "Epoch 0/100 Cost: 1.341574\n",
      "Epoch 5/100 Cost: 1.102514\n",
      "Epoch 10/100 Cost: 1.043655\n",
      "Epoch 15/100 Cost: 0.994917\n",
      "Epoch 20/100 Cost: 0.954288\n",
      "Epoch 25/100 Cost: 0.920322\n",
      "Epoch 30/100 Cost: 0.891690\n",
      "Epoch 35/100 Cost: 0.867262\n",
      "Epoch 40/100 Cost: 0.846133\n",
      "Epoch 45/100 Cost: 0.827604\n",
      "Epoch 50/100 Cost: 0.811143\n",
      "Epoch 55/100 Cost: 0.796351\n",
      "Epoch 60/100 Cost: 0.782924\n",
      "Epoch 65/100 Cost: 0.770633\n",
      "Epoch 70/100 Cost: 0.759298\n",
      "Epoch 75/100 Cost: 0.748781\n",
      "Epoch 80/100 Cost: 0.738971\n",
      "Epoch 85/100 Cost: 0.729781\n",
      "Epoch 90/100 Cost: 0.721137\n",
      "Epoch 95/100 Cost: 0.712979\n",
      "Epoch 100/100 Cost: 0.705257\n"
     ]
    }
   ],
   "metadata": {}
  },
  {
   "cell_type": "markdown",
   "source": [
    "## Data Preprocessing\r\n",
    "\r\n",
    "Let's make our data zero-centered and normalize."
   ],
   "metadata": {}
  },
  {
   "cell_type": "code",
   "execution_count": 289,
   "source": [
    "x_train = torch.FloatTensor([[73, 80, 75],\r\n",
    "                             [93, 88, 93],\r\n",
    "                             [89, 91, 90],\r\n",
    "                             [96, 98, 100],\r\n",
    "                             [73, 66, 70]])\r\n",
    "\r\n",
    "y_train = torch.FloatTensor([[152], [185], [180], [196], [142]])"
   ],
   "outputs": [],
   "metadata": {}
  },
  {
   "cell_type": "markdown",
   "source": [
    "$ x'_j = \\frac{x_j - \\mu_j}{\\sigma_j} $\r\n",
    "\r\n",
    "At here,the $\\sigma$ is standard deviation,and the $\\mu$ is the mean of the batch."
   ],
   "metadata": {}
  },
  {
   "cell_type": "code",
   "execution_count": 290,
   "source": [
    "mu = x_train.mean(dim = 0)"
   ],
   "outputs": [],
   "metadata": {}
  },
  {
   "cell_type": "code",
   "execution_count": 291,
   "source": [
    "sigma = x_train.std(dim = 0)"
   ],
   "outputs": [],
   "metadata": {}
  },
  {
   "cell_type": "code",
   "execution_count": 292,
   "source": [
    "norm_x_train = (x_train - mu) / sigma"
   ],
   "outputs": [],
   "metadata": {}
  },
  {
   "cell_type": "code",
   "execution_count": 293,
   "source": [
    "print(norm_x_train)"
   ],
   "outputs": [
    {
     "output_type": "stream",
     "name": "stdout",
     "text": [
      "tensor([[-1.0674, -0.3758, -0.8398],\n",
      "        [ 0.7418,  0.2778,  0.5863],\n",
      "        [ 0.3799,  0.5229,  0.3486],\n",
      "        [ 1.0132,  1.0948,  1.1409],\n",
      "        [-1.0674, -1.5197, -1.2360]])\n"
     ]
    }
   ],
   "metadata": {}
  },
  {
   "cell_type": "markdown",
   "source": [
    "Let's train with the normalized and zero-centered x_train data."
   ],
   "metadata": {}
  },
  {
   "cell_type": "code",
   "execution_count": 294,
   "source": [
    "class MultivariateLinearRegressionModel(nn.Module):\r\n",
    "   def __init__(self):\r\n",
    "       super().__init__()\r\n",
    "       self.linear = nn.Linear(3, 1)\r\n",
    "\r\n",
    "   def forward(self, x):\r\n",
    "        return self.linear(x)"
   ],
   "outputs": [],
   "metadata": {}
  },
  {
   "cell_type": "code",
   "execution_count": 295,
   "source": [
    "model = MultivariateLinearRegressionModel()"
   ],
   "outputs": [],
   "metadata": {}
  },
  {
   "cell_type": "code",
   "execution_count": 296,
   "source": [
    "optimizer = optim.SGD(model.parameters(), lr=1e-1)"
   ],
   "outputs": [],
   "metadata": {}
  },
  {
   "cell_type": "markdown",
   "source": [
    "## IF NOT DATA PREPROCESSING"
   ],
   "metadata": {}
  },
  {
   "cell_type": "code",
   "execution_count": 297,
   "source": [
    "def train(model, optimizer, x_train, y_train):\r\n",
    "    nb_epochs = 20\r\n",
    "\r\n",
    "    for epoch in range(nb_epochs + 1):\r\n",
    "\r\n",
    "        #prediction\r\n",
    "        pred = model(x_train)\r\n",
    "\r\n",
    "        #cost\r\n",
    "        cost = F.mse_loss(pred, y_train)\r\n",
    "\r\n",
    "        #Reduce the cost\r\n",
    "        optimizer.zero_grad()\r\n",
    "        cost.backward()\r\n",
    "        optimizer.step()\r\n",
    "\r\n",
    "        print('Epoch {:1d}/{} Cost: {:.6f}'.format(epoch, nb_epochs, cost))"
   ],
   "outputs": [],
   "metadata": {}
  },
  {
   "cell_type": "code",
   "execution_count": 298,
   "source": [
    "train(model, optimizer, x_train, y_train)"
   ],
   "outputs": [
    {
     "output_type": "stream",
     "name": "stdout",
     "text": [
      "Epoch 0/20 Cost: 57621.960938\n",
      "Epoch 1/20 Cost: 1115690762240.000000\n",
      "Epoch 2/20 Cost: 21603378185380036608.000000\n",
      "Epoch 3/20 Cost: 418311281336289389130547200.000000\n",
      "Epoch 4/20 Cost: 8099859627174812776678955834933248.000000\n",
      "Epoch 5/20 Cost: inf\n",
      "Epoch 6/20 Cost: inf\n",
      "Epoch 7/20 Cost: inf\n",
      "Epoch 8/20 Cost: inf\n",
      "Epoch 9/20 Cost: inf\n",
      "Epoch 10/20 Cost: inf\n",
      "Epoch 11/20 Cost: inf\n",
      "Epoch 12/20 Cost: nan\n",
      "Epoch 13/20 Cost: nan\n",
      "Epoch 14/20 Cost: nan\n",
      "Epoch 15/20 Cost: nan\n",
      "Epoch 16/20 Cost: nan\n",
      "Epoch 17/20 Cost: nan\n",
      "Epoch 18/20 Cost: nan\n",
      "Epoch 19/20 Cost: nan\n",
      "Epoch 20/20 Cost: nan\n"
     ]
    }
   ],
   "metadata": {}
  },
  {
   "cell_type": "markdown",
   "source": [
    "## IF DATA PREPROCESSING"
   ],
   "metadata": {}
  },
  {
   "cell_type": "code",
   "execution_count": 300,
   "source": [
    "model = MultivariateLinearRegressionModel()\r\n",
    "optimizer = optim.SGD(model.parameters(), lr=1e-1)\r\n",
    "train(model, optimizer, norm_x_train, y_train)"
   ],
   "outputs": [
    {
     "output_type": "stream",
     "name": "stdout",
     "text": [
      "Epoch 0/20 Cost: 29602.087891\n",
      "Epoch 1/20 Cost: 18798.478516\n",
      "Epoch 2/20 Cost: 11988.445312\n",
      "Epoch 3/20 Cost: 7660.372559\n",
      "Epoch 4/20 Cost: 4899.234375\n",
      "Epoch 5/20 Cost: 3134.669434\n",
      "Epoch 6/20 Cost: 2006.090454\n",
      "Epoch 7/20 Cost: 1284.011230\n",
      "Epoch 8/20 Cost: 821.937134\n",
      "Epoch 9/20 Cost: 526.222473\n",
      "Epoch 10/20 Cost: 336.965057\n",
      "Epoch 11/20 Cost: 215.836105\n",
      "Epoch 12/20 Cost: 138.308807\n",
      "Epoch 13/20 Cost: 88.686241\n",
      "Epoch 14/20 Cost: 56.922920\n",
      "Epoch 15/20 Cost: 36.589779\n",
      "Epoch 16/20 Cost: 23.571926\n",
      "Epoch 17/20 Cost: 15.236008\n",
      "Epoch 18/20 Cost: 9.896884\n",
      "Epoch 19/20 Cost: 6.475713\n",
      "Epoch 20/20 Cost: 4.282265\n"
     ]
    }
   ],
   "metadata": {}
  },
  {
   "cell_type": "markdown",
   "source": [
    "## Overfitting\r\n",
    "\r\n",
    "if the model is learned to well to the train data, it will not be the capacity to the test data.MultivariateLinearRegressionModel\r\n",
    "\r\n",
    "To prevent this, there are generally 3 ways.\r\n",
    "\r\n",
    "- 1. More train data.\r\n",
    "- 2. Less features\r\n",
    "- 3. **Regularization**\r\n",
    "\r\n",
    "Regularization: Let's not have too bit numbers in the weights"
   ],
   "metadata": {}
  },
  {
   "cell_type": "markdown",
   "source": [
    "### Take a moment!\r\n",
    "\r\n",
    "There are generally 3 ways of regularization.\r\n",
    "\r\n",
    "- 1. L1 Regularization\r\n",
    "- 2. L2 Regularization\r\n",
    "- 3. Dropout\r\n",
    "- 4. Early Stopping\r\n",
    "\r\n",
    "Here we are going to adopt the L2 Regularization"
   ],
   "metadata": {}
  },
  {
   "cell_type": "code",
   "execution_count": 303,
   "source": [
    "def train_with_regularization(model, optimizer, x_train, y_train):\r\n",
    "    nb_epochs = 20\r\n",
    "    for epoch in range(nb_epochs + 1):\r\n",
    "        \r\n",
    "        #prediction\r\n",
    "        pred = model(x_train)\r\n",
    "\r\n",
    "        #cost\r\n",
    "        cost = F.mse_loss(pred, y_train)\r\n",
    "\r\n",
    "        #L2 norm\r\n",
    "        l2_reg = 0\r\n",
    "        for param in model.parameters():\r\n",
    "            l2_reg += torch.norm(param)\r\n",
    "\r\n",
    "        cost += l2_reg\r\n",
    "\r\n",
    "        #Reduce the cost\r\n",
    "        optimizer.zero_grad()\r\n",
    "        cost.backward()\r\n",
    "        optimizer.step()\r\n",
    "\r\n",
    "        print('Epoch {:1d}/{} Cost: {:.6f}'.format(epoch, nb_epochs, cost))"
   ],
   "outputs": [],
   "metadata": {}
  },
  {
   "cell_type": "code",
   "execution_count": 304,
   "source": [
    "model = MultivariateLinearRegressionModel()"
   ],
   "outputs": [],
   "metadata": {}
  },
  {
   "cell_type": "code",
   "execution_count": 305,
   "source": [
    "optimizer = optim.SGD(model.parameters(), lr=1e-1)"
   ],
   "outputs": [],
   "metadata": {}
  },
  {
   "cell_type": "code",
   "execution_count": 306,
   "source": [
    "train_with_regularization(model, optimizer, norm_x_train, y_train)"
   ],
   "outputs": [
    {
     "output_type": "stream",
     "name": "stdout",
     "text": [
      "Epoch 0/20 Cost: 29648.953125\n",
      "Epoch 1/20 Cost: 18888.650391\n",
      "Epoch 2/20 Cost: 12114.510742\n",
      "Epoch 3/20 Cost: 7807.997070\n",
      "Epoch 4/20 Cost: 5060.242188\n",
      "Epoch 5/20 Cost: 3304.121582\n",
      "Epoch 6/20 Cost: 2180.908936\n",
      "Epoch 7/20 Cost: 1462.253418\n",
      "Epoch 8/20 Cost: 1002.366821\n",
      "Epoch 9/20 Cost: 708.049927\n",
      "Epoch 10/20 Cost: 519.685913\n",
      "Epoch 11/20 Cost: 399.127502\n",
      "Epoch 12/20 Cost: 321.964600\n",
      "Epoch 13/20 Cost: 272.574799\n",
      "Epoch 14/20 Cost: 240.960114\n",
      "Epoch 15/20 Cost: 220.721405\n",
      "Epoch 16/20 Cost: 207.763870\n",
      "Epoch 17/20 Cost: 199.466415\n",
      "Epoch 18/20 Cost: 194.151688\n",
      "Epoch 19/20 Cost: 190.746063\n",
      "Epoch 20/20 Cost: 188.562561\n"
     ]
    }
   ],
   "metadata": {}
  }
 ],
 "metadata": {
  "orig_nbformat": 4,
  "language_info": {
   "name": "python",
   "version": "3.8.8",
   "mimetype": "text/x-python",
   "codemirror_mode": {
    "name": "ipython",
    "version": 3
   },
   "pygments_lexer": "ipython3",
   "nbconvert_exporter": "python",
   "file_extension": ".py"
  },
  "kernelspec": {
   "name": "python3",
   "display_name": "Python 3.8.8 64-bit ('buddhalight': conda)"
  },
  "interpreter": {
   "hash": "38ed4d61829b01de31b0fe0651719916120d9f7e023a62cbbfea93b7d24a50a0"
  }
 },
 "nbformat": 4,
 "nbformat_minor": 2
}