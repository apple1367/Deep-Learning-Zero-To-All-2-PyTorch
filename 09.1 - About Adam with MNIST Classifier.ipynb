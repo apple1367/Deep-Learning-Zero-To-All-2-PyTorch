{
 "cells": [
  {
   "cell_type": "markdown",
   "source": [
    "# Lab 9.1: About Adam with MNIST Classifier\r\n",
    "\r\n",
    "Edited By Steve Ive\r\n",
    "\r\n",
    "In this lab(9.0 and 9.1), we are going to learn about various optimizers, including SGD(Stochastic Gradient Descent) as we used always, besides about Adam, Adagrad, Momentum, GD, Adadelta, RMSProp etc. We are going to create the neural network using optimizer Adam at the End. Please read script \"09.0 About optimizers\" to get more understand.\r\n",
    "\r\n",
    "Reference from\r\n",
    "\r\n",
    "https://github.com/deeplearningzerotoall/PyTorch/blob/master/lab-09_1_mnist_softmax.ipynb"
   ],
   "metadata": {}
  },
  {
   "cell_type": "markdown",
   "source": [
    "![optimizers](https://cdn-images-1.medium.com/max/2000/1*3mbLR7aSgbg_UoueBymw5g.png)\r\n",
    "\r\n",
    "Reference from \r\n",
    "\r\n",
    "https://medium.com/octavian-ai/which-optimizer-and-learning-rate-should-i-use-for-deep-learning-5acb418f9b2"
   ],
   "metadata": {}
  },
  {
   "cell_type": "markdown",
   "source": [
    "## Imports"
   ],
   "metadata": {}
  },
  {
   "cell_type": "code",
   "execution_count": 218,
   "source": [
    "import torch\r\n",
    "import torchvision.datasets as datasets\r\n",
    "import torchvision.transforms as transforms\r\n",
    "import torch.nn as nn\r\n",
    "import torch.nn.functional as F\r\n",
    "import torch.optim as optim\r\n",
    "import random"
   ],
   "outputs": [],
   "metadata": {}
  },
  {
   "cell_type": "code",
   "execution_count": 219,
   "source": [
    "device = 'cuda' if torch.cuda.is_available() else 'cpu'\r\n",
    "\r\n",
    "random.seed(1)\r\n",
    "torch.manual_seed(1)\r\n",
    "if device == 'cuda':\r\n",
    "    torch.cuda.manual_seed_all(1)"
   ],
   "outputs": [],
   "metadata": {}
  },
  {
   "cell_type": "markdown",
   "source": [
    "## Set Hyper Parameters"
   ],
   "metadata": {}
  },
  {
   "cell_type": "code",
   "execution_count": 220,
   "source": [
    "learning_rate = 0.001\r\n",
    "training_epochs = 15\r\n",
    "batch_size = 100"
   ],
   "outputs": [],
   "metadata": {}
  },
  {
   "cell_type": "markdown",
   "source": [
    "## Load MNIST Data"
   ],
   "metadata": {}
  },
  {
   "cell_type": "code",
   "execution_count": 221,
   "source": [
    "mnist_train = datasets.MNIST(root='MNIST_data/',\r\n",
    "                             train=True,\r\n",
    "                             transform=transforms.ToTensor(),\r\n",
    "                             download=True)\r\n",
    "mnist_test = datasets.MNIST(root='MNIST_data/',\r\n",
    "                            train=False,\r\n",
    "                            transform=transforms.ToTensor(),\r\n",
    "                            download=True)"
   ],
   "outputs": [],
   "metadata": {}
  },
  {
   "cell_type": "code",
   "execution_count": 222,
   "source": [
    "data_loader = torch.utils.data.DataLoader(dataset=mnist_train, shuffle=True, drop_last=True, batch_size = batch_size)"
   ],
   "outputs": [],
   "metadata": {}
  },
  {
   "cell_type": "markdown",
   "source": [
    "## Model Define"
   ],
   "metadata": {}
  },
  {
   "cell_type": "code",
   "execution_count": 223,
   "source": [
    "class LinearMNISTClassifier(nn.Module):\r\n",
    "    def __init__(self):\r\n",
    "        super().__init__()\r\n",
    "        self.linear = nn.Linear(784, 10)\r\n",
    "        nn.init.normal_(self.linear.weight)\r\n",
    "\r\n",
    "    def forward(self, x):\r\n",
    "        return self.linear(x)"
   ],
   "outputs": [],
   "metadata": {}
  },
  {
   "cell_type": "markdown",
   "source": [
    "## Train with SGD and ADAM"
   ],
   "metadata": {}
  },
  {
   "cell_type": "code",
   "execution_count": 228,
   "source": [
    "def train(data_loader, model, optimizer):\r\n",
    "    #set optimizer\r\n",
    "    if optimizer == \"sgd\":\r\n",
    "        optimizer = optim.SGD(model.parameters(), lr=learning_rate)\r\n",
    "    else:\r\n",
    "        optimizer = optim.Adam(model.parameters(), lr=learning_rate)\r\n",
    "\r\n",
    "    total_batch = len(data_loader)\r\n",
    "\r\n",
    "    for epoch in range(training_epochs):\r\n",
    "\r\n",
    "        avg_cost = 0\r\n",
    "        \r\n",
    "        for X, Y in data_loader:\r\n",
    "\r\n",
    "            #reshape input image into (batchsize x 784)\r\n",
    "            #label is not one-hot encoded\r\n",
    "            X = X.view(-1, 28 * 28).to(device)# Before X.shape = torch.Size([100, 1, 28, 28]) After torch.Size([100, 784])\r\n",
    "            Y = Y.to(device)\r\n",
    "\r\n",
    "            #prediction\r\n",
    "            pred = model(X)\r\n",
    "\r\n",
    "            #cost\r\n",
    "            cost = F.cross_entropy(pred, Y)\r\n",
    "\r\n",
    "            #Reduce the cost\r\n",
    "            optimizer.zero_grad()\r\n",
    "            cost.backward()\r\n",
    "            optimizer.step()\r\n",
    "\r\n",
    "            avg_cost += cost / total_batch\r\n",
    "\r\n",
    "        print('Epoch: {:d}/15, Cost: {:.6f}'.format(epoch+1, avg_cost))\r\n",
    "\r\n",
    "    print('Learning Finished')"
   ],
   "outputs": [],
   "metadata": {}
  },
  {
   "cell_type": "markdown",
   "source": [
    "## Train with SGD"
   ],
   "metadata": {}
  },
  {
   "cell_type": "code",
   "execution_count": 229,
   "source": [
    "model = LinearMNISTClassifier().to(device)\r\n",
    "train(data_loader, model, 'sgd')"
   ],
   "outputs": [
    {
     "output_type": "stream",
     "name": "stdout",
     "text": [
      "Epoch: 1/15, Cost: 12.765790\n",
      "Epoch: 2/15, Cost: 10.279278\n",
      "Epoch: 3/15, Cost: 8.915923\n",
      "Epoch: 4/15, Cost: 7.992557\n",
      "Epoch: 5/15, Cost: 7.297637\n",
      "Epoch: 6/15, Cost: 6.743856\n",
      "Epoch: 7/15, Cost: 6.280459\n",
      "Epoch: 8/15, Cost: 5.879832\n",
      "Epoch: 9/15, Cost: 5.527321\n",
      "Epoch: 10/15, Cost: 5.214455\n",
      "Epoch: 11/15, Cost: 4.935022\n",
      "Epoch: 12/15, Cost: 4.684261\n",
      "Epoch: 13/15, Cost: 4.458256\n",
      "Epoch: 14/15, Cost: 4.253722\n",
      "Epoch: 15/15, Cost: 4.067929\n",
      "Learning Finished\n"
     ]
    }
   ],
   "metadata": {}
  },
  {
   "cell_type": "code",
   "execution_count": 230,
   "source": [
    "#Test the model using test sets\r\n",
    "\r\n",
    "with torch.no_grad():\r\n",
    "    X_test = mnist_test.test_data.view(-1 ,28 * 28).float().to(device)\r\n",
    "    Y_test = mnist_test.test_labels.to(device)\r\n",
    "\r\n",
    "    pred = model(X_test)\r\n",
    "    correct_prediction = torch.argmax(pred, 1) == Y_test\r\n",
    "    accuracy = correct_prediction.float().mean()\r\n",
    "\r\n",
    "    print('Accuracy: ', accuracy.item())\r\n",
    "\r\n",
    "    #Get one and predict\r\n",
    "    r = random.randint(0, len(mnist_test) - 1)\r\n",
    "\r\n",
    "    #below X_single_data.shape => torch.size([1, 784])\r\n",
    "\r\n",
    "    #X_single_data = mnist_test.test_data[r:r + 1].view(-1, 28 * 28).float().to(device)\r\n",
    "    #Y_single_data = mnist_test.test_labels[r:r + 1].to(device)\r\n",
    "\r\n",
    "    #X_test[r].shape => torch.size([784])\r\n",
    "    #X_test[r:r+1].shape => torch.size([1, 784])\r\n",
    "    #if torch.argmax(single_prediction, 1) => Since just torch.size([784]) makes IndexError: Dimension out of range (expected to be in range of [-1, 0], but got 1)\r\n",
    "    #else torch.argmax(single_prediction, 0) => no error with size([784])\r\n",
    "    X_single_data = X_test[r]\r\n",
    "    Y_single_data = Y_test[r]\r\n",
    "\r\n",
    "    print('Label: ', Y_single_data.item())\r\n",
    "    single_prediction = model(X_single_data)\r\n",
    "    print('Prediction: ', torch.argmax(single_prediction, 0).item())"
   ],
   "outputs": [
    {
     "output_type": "stream",
     "name": "stdout",
     "text": [
      "Accuracy:  0.4203999936580658\n",
      "Label:  0\n",
      "Prediction:  0\n"
     ]
    }
   ],
   "metadata": {}
  },
  {
   "cell_type": "markdown",
   "source": [
    "## Train with ADAM"
   ],
   "metadata": {}
  },
  {
   "cell_type": "code",
   "execution_count": 231,
   "source": [
    "model = LinearMNISTClassifier().to(device)\r\n",
    "train(data_loader, model, 'adam')"
   ],
   "outputs": [
    {
     "output_type": "stream",
     "name": "stdout",
     "text": [
      "Epoch: 1/15, Cost: 5.672674\n",
      "Epoch: 2/15, Cost: 1.664780\n",
      "Epoch: 3/15, Cost: 1.087722\n",
      "Epoch: 4/15, Cost: 0.856496\n",
      "Epoch: 5/15, Cost: 0.727496\n",
      "Epoch: 6/15, Cost: 0.643582\n",
      "Epoch: 7/15, Cost: 0.584310\n",
      "Epoch: 8/15, Cost: 0.541188\n",
      "Epoch: 9/15, Cost: 0.508095\n",
      "Epoch: 10/15, Cost: 0.481329\n",
      "Epoch: 11/15, Cost: 0.459101\n",
      "Epoch: 12/15, Cost: 0.440584\n",
      "Epoch: 13/15, Cost: 0.424890\n",
      "Epoch: 14/15, Cost: 0.411225\n",
      "Epoch: 15/15, Cost: 0.399128\n",
      "Learning Finished\n"
     ]
    }
   ],
   "metadata": {}
  },
  {
   "cell_type": "code",
   "execution_count": 241,
   "source": [
    "#Test the model using test sets\r\n",
    "\r\n",
    "with torch.no_grad():\r\n",
    "    X_test = mnist_test.data.view(-1 ,28 * 28).float().to(device)\r\n",
    "    Y_test = mnist_test.targets.to(device)\r\n",
    "\r\n",
    "    pred = model(X_test)\r\n",
    "    correct_prediction = torch.argmax(pred, 1) == Y_test\r\n",
    "    accuracy = correct_prediction.float().mean()\r\n",
    "\r\n",
    "    print('Accuracy: ', accuracy.item())\r\n",
    "\r\n",
    "    #Get one and predict\r\n",
    "    r = random.randint(0, len(mnist_test) - 1)\r\n",
    "\r\n",
    "    print(mnist_test.data[r: r+1].view(-1, 28 * 28).shape, X_test[r: r+1].shape)\r\n",
    "\r\n",
    "    #below X_single_data.shape => torch.size([1, 784])\r\n",
    "\r\n",
    "    #X_single_data = mnist_test.test_data[r:r + 1].view(-1, 28 * 28).float().to(device)\r\n",
    "    #Y_single_data = mnist_test.test_labels[r:r + 1].to(device)\r\n",
    "\r\n",
    "    #X_test[r].shape => torch.size([784])\r\n",
    "    #X_test[r:r+1].shape => torch.size([1, 784])\r\n",
    "    #if torch.argmax(single_prediction, 1) => Since just torch.size([784]) makes IndexError: Dimension out of range (expected to be in range of [-1, 0], but got 1)\r\n",
    "    #else torch.argmax(single_prediction, 0) => no error with size([784])\r\n",
    "    X_single_data = X_test[r]\r\n",
    "    Y_single_data = Y_test[r]\r\n",
    "\r\n",
    "    print('Label: ', Y_single_data.item())\r\n",
    "    single_prediction = model(X_single_data)\r\n",
    "    print('Prediction: ', torch.argmax(single_prediction, 0).item())"
   ],
   "outputs": [
    {
     "output_type": "stream",
     "name": "stdout",
     "text": [
      "Accuracy:  0.8872999548912048\n",
      "torch.Size([1, 784]) torch.Size([1, 784])\n",
      "Label:  3\n",
      "Prediction:  3\n"
     ]
    }
   ],
   "metadata": {}
  },
  {
   "cell_type": "code",
   "execution_count": null,
   "source": [],
   "outputs": [],
   "metadata": {}
  }
 ],
 "metadata": {
  "orig_nbformat": 4,
  "language_info": {
   "name": "python",
   "version": "3.8.8",
   "mimetype": "text/x-python",
   "codemirror_mode": {
    "name": "ipython",
    "version": 3
   },
   "pygments_lexer": "ipython3",
   "nbconvert_exporter": "python",
   "file_extension": ".py"
  },
  "kernelspec": {
   "name": "python3",
   "display_name": "Python 3.8.8 64-bit ('buddhalight': conda)"
  },
  "interpreter": {
   "hash": "38ed4d61829b01de31b0fe0651719916120d9f7e023a62cbbfea93b7d24a50a0"
  }
 },
 "nbformat": 4,
 "nbformat_minor": 2
}