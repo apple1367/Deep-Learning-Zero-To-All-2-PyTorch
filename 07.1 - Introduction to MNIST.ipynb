{
 "cells": [
  {
   "cell_type": "markdown",
   "source": [
    "# Lab 7.2: Introduction to MNIST\r\n",
    "\r\n",
    "Edited By Steve Ive\r\n",
    "\r\n",
    "Reference from \r\n",
    "\r\n",
    "https://github.com/deeplearningzerotoall/PyTorch/blob/master/lab-07_2_mnist_introduction.ipynb"
   ],
   "metadata": {}
  },
  {
   "cell_type": "markdown",
   "source": [
    "## Imports"
   ],
   "metadata": {}
  },
  {
   "cell_type": "code",
   "execution_count": 1,
   "source": [
    "import torch\r\n",
    "import torch.nn as nn\r\n",
    "import torch.optim as optim\r\n",
    "import torch.nn.functional as F\r\n",
    "import torchvision.datasets as datasets\r\n",
    "import torchvision.transforms as transforms\r\n",
    "import matplotlib.pyplot as plt\r\n",
    "import random"
   ],
   "outputs": [],
   "metadata": {}
  },
  {
   "cell_type": "markdown",
   "source": [
    "### Take a Moment!\r\n",
    "\r\n",
    "**TORCHVISION.TRANSFORMS**\r\n",
    "\r\n",
    "Transforms are common image transformations. They can be chained together using Compose. Most transform classes have a function equivalent: functional transforms give fine-grained control over the transformations. This is useful if you have to build a more complex transformation pipeline (e.g. in the case of segmentation tasks).\r\n",
    "\r\n",
    "Most transformations accept both PIL images and tensor images, although some transformations are PIL-only and some are tensor-only. The Conversion Transforms may be used to convert to and from PIL images.\r\n",
    "\r\n",
    "The transformations that accept tensor images also accept batches of tensor images. A Tensor Image is a tensor with (C, H, W) shape, where C is a number of channels, H and W are image height and width. A batch of Tensor Images is a tensor of (B, C, H, W) shape, where B is a number of images in the batch.\r\n",
    "\r\n",
    "The expected range of the values of a tensor image is implicitely defined by the tensor dtype. ***Tensor images with a float dtype are expected to have values in [0, 1). Tensor images with an integer dtype are expected to have values in [0, MAX_DTYPE] where MAX_DTYPE is the largest value that can be represented in that dtype.***\r\n",
    "\r\n",
    "Randomized transformations will apply the same transformation to all the images of a given batch, but they will produce different transformations across calls. For reproducible transformations across calls, you may use functional transforms.\r\n",
    "\r\n",
    "---\r\n",
    "\r\n",
    "The following examples illustate the use of the available transforms:\r\n",
    "\r\n",
    "\r\n",
    "- Illustration of transforms\r\n",
    "\r\n",
    "https://pytorch.org/vision/stable/auto_examples/plot_transforms.html#sphx-glr-auto-examples-plot-transforms-py\r\n",
    "\r\n",
    "\r\n",
    "![](https://pytorch.org/vision/stable/_images/sphx_glr_plot_transforms_0011.png)\r\n",
    "\r\n",
    "---\r\n",
    "- Tensor transforms and JIT\r\n",
    "\r\n",
    "https://pytorch.org/vision/stable/auto_examples/plot_scripted_tensor_transforms.html#sphx-glr-auto-examples-plot-scripted-tensor-transforms-py\r\n",
    "\r\n",
    "![](https://pytorch.org/vision/stable/_images/sphx_glr_plot_scripted_tensor_transforms_0011.png)\r\n",
    "\r\n",
    "---\r\n",
    "\r\n",
    "**WARNING**\r\n",
    "\r\n",
    "Since v0.8.0 all random transformations are using torch default random generator to sample random parameters. It is a backward compatibility breaking change and user should set the random state as following:\r\n",
    "\r\n",
    "```\r\n",
    "# Previous versions\r\n",
    "# import random\r\n",
    "# random.seed(12)\r\n",
    "\r\n",
    "# Now\r\n",
    "import torch\r\n",
    "torch.manual_seed(17)\r\n",
    "```\r\n",
    "Please, keep in mind that the same seed for torch random generator and Python random generator will not produce the same results.\r\n",
    "\r\n",
    "https://pytorch.org/vision/stable/transforms.html\r\n",
    "\r\n",
    "---\r\n",
    "**CLASS torchvision.transforms.ToTensor**\r\n",
    "\r\n",
    "Convert a PIL Image or numpy.ndarray to tensor. This transform does not support torchscript.\r\n",
    "\r\n",
    "Converts a PIL Image or numpy.ndarray (H x W x C) in the range [0, 255] to a torch.FloatTensor of shape (C x H x W) in the range [0.0, 1.0] if the PIL Image belongs to one of the modes (L, LA, P, I, F, RGB, YCbCr, RGBA, CMYK, 1) or if the numpy.ndarray has dtype = np.uint8\r\n",
    "\r\n",
    "In the other cases, tensors are returned without scaling.\r\n",
    "\r\n",
    "**NOTE**\r\n",
    "\r\n",
    "Because the input image is scaled to [0.0, 1.0], this transformation should not be used when transforming target image masks. See the references for implementing the transforms for image masks.\r\n"
   ],
   "metadata": {}
  },
  {
   "cell_type": "markdown",
   "source": [
    "## Set Device with cuda"
   ],
   "metadata": {}
  },
  {
   "cell_type": "code",
   "execution_count": 2,
   "source": [
    "device = 'cuda' if torch.cuda.is_available() else 'cpu'\r\n",
    "\r\n",
    "random.seed(1)\r\n",
    "torch.manual_seed(1)\r\n",
    "if device == 'cuda':\r\n",
    "    torch.cuda.manual_seed_all(1)"
   ],
   "outputs": [],
   "metadata": {}
  },
  {
   "cell_type": "markdown",
   "source": [
    "## Set Hyperparameters"
   ],
   "metadata": {}
  },
  {
   "cell_type": "code",
   "execution_count": 3,
   "source": [
    "training_epochs = 15\r\n",
    "batch_size = 100"
   ],
   "outputs": [],
   "metadata": {}
  },
  {
   "cell_type": "markdown",
   "source": [
    "## Load MNIST Dataset"
   ],
   "metadata": {}
  },
  {
   "cell_type": "code",
   "execution_count": 4,
   "source": [
    "mnist_train = datasets.MNIST(root='MNIST_data/',\r\n",
    "                             train=True,\r\n",
    "                             transform=transforms.ToTensor(),\r\n",
    "                             download=True)\r\n",
    "mnist_test = datasets.MNIST(root='MNIST_data/',\r\n",
    "                            train=False,\r\n",
    "                            transform=transforms.ToTensor(),\r\n",
    "                            download=True)"
   ],
   "outputs": [
    {
     "output_type": "stream",
     "name": "stderr",
     "text": [
      "C:\\Users\\buddhalight\\envs\\buddhalight\\lib\\site-packages\\torchvision\\datasets\\mnist.py:498: UserWarning: The given NumPy array is not writeable, and PyTorch does not support non-writeable tensors. This means you can write to the underlying (supposedly non-writeable) NumPy array using the tensor. You may want to copy the array to protect its data or make it writeable before converting it to a tensor. This type of warning will be suppressed for the rest of this program. (Triggered internally at  ..\\torch\\csrc\\utils\\tensor_numpy.cpp:180.)\n",
      "  return torch.from_numpy(parsed.astype(m[2], copy=False)).view(*s)\n"
     ]
    }
   ],
   "metadata": {}
  },
  {
   "cell_type": "code",
   "execution_count": 5,
   "source": [
    "data_loader = torch.utils.data.DataLoader(dataset = mnist_train,\r\n",
    "                                          batch_size = batch_size,\r\n",
    "                                          shuffle = True,\r\n",
    "                                          drop_last=True)"
   ],
   "outputs": [],
   "metadata": {}
  },
  {
   "cell_type": "markdown",
   "source": [
    "## Create Model"
   ],
   "metadata": {}
  },
  {
   "cell_type": "code",
   "execution_count": 6,
   "source": [
    "# Mnist data image of shape 28 * 28 = 784\r\n",
    "linear = torch.nn.Linear(784, 10).to(device)"
   ],
   "outputs": [],
   "metadata": {}
  },
  {
   "cell_type": "markdown",
   "source": [
    "### Take a Moment!\r\n",
    "\r\n",
    "> **F.cross entropy vs torch.nn.Cross_Entropy_Loss**\r\n",
    "\r\n",
    "There isn’t much difference for losses.\r\n",
    "The main difference between the nn.functional.xxx and the nn.Xxx is that one has a state and one does not.\r\n",
    "***This means that for a linear layer for example, if you use the functional version, you will need to handle the weights yourself (including passing them to the optimizer or moving them to the gpu) while the nn.Xxx version will do all of that for you with .parameters() or .to(device).***\r\n",
    "\r\n",
    "***For loss functions, as no parameters are needed (in general), you won’t find much difference***. Except for example, if you use cross entropy with some weighting between your classes, using the nn.CrossEntropyLoss() 539 module, you will give your weights only once while creating the module and then use it. If you were using the functional version 503, you will need to pass the weights every single time you will use it.\r\n",
    "\r\n",
    "https://discuss.pytorch.org/t/f-cross-entropy-vs-torch-nn-cross-entropy-loss/25505\r\n",
    "\r\n",
    "---\r\n",
    "\r\n",
    "> **How to choose between torch.nn.Functional and torch.nn module?**\r\n",
    "\r\n",
    "A nn.Module is actually a OO wrapper around the functional interface, that contains a number of utility methods, like eval() and parameters(), ***and it automatically creates the parameters of the modules for you.***\r\n",
    "you can use the functional interface whenever you want, but that requires you to define the weights by hand. Here is an example https://github.com/szagoruyko/wide-residual-networks/tree/master/pytorch\r\n",
    "\r\n",
    "https://discuss.pytorch.org/t/how-to-choose-between-torch-nn-functional-and-torch-nn-module/2800/6"
   ],
   "metadata": {}
  },
  {
   "cell_type": "code",
   "execution_count": 7,
   "source": [
    "criterion = torch.nn.CrossEntropyLoss().to(device)\r\n",
    "optimizer = torch.optim.SGD(linear.parameters(), lr=0.1)"
   ],
   "outputs": [],
   "metadata": {}
  },
  {
   "cell_type": "markdown",
   "source": [
    "### Take a Moment!\r\n",
    "\r\n",
    "**What does %s mean in a Python format string?**\r\n",
    "\r\n",
    "The % symbol is used in Python with a large variety of data types and configurations. %s specifically is used to perform concatenation of strings together. It allows us to format a value inside a string. It is used to incorporate another string within a string. It automatically provides type conversion from value to string. \r\n",
    "\r\n",
    "The %s operator is put where the string is to be specified. The number of values you want to append to a string should be equivalent to the number specified in parentheses after the % operator at the end of the string value. \r\n",
    "\r\n",
    "The following Python code illustrates the way of performing string formatting. \r\n",
    "\r\n",
    "Simple use of %s\r\n",
    "\r\n",
    "```\r\n",
    "# declaring a string variable\r\n",
    "name = \"Geek\"\r\n",
    "  \r\n",
    "# append a string within a string\r\n",
    "print(\"Hey, %s!\" % name)\r\n",
    "```\r\n",
    "\r\n",
    "https://www.geeksforgeeks.org/what-does-s-mean-in-a-python-format-string/"
   ],
   "metadata": {}
  },
  {
   "cell_type": "markdown",
   "source": [
    "## Train the MNIST"
   ],
   "metadata": {}
  },
  {
   "cell_type": "code",
   "execution_count": 8,
   "source": [
    "for epoch in range(training_epochs):\r\n",
    "    avg_cost = 0\r\n",
    "    total_Batch = len(data_loader)\r\n",
    "\r\n",
    "    for X, Y in data_loader:\r\n",
    "        #reshape input image into (batch_size, 784)\r\n",
    "        # Label is not one-hot encoded\r\n",
    "        X = X.view(-1, 28 * 28).to(device)\r\n",
    "        Y = Y.to(device)\r\n",
    "\r\n",
    "        #prediction\r\n",
    "        pred = linear(X)\r\n",
    "\r\n",
    "        #cost\r\n",
    "        cost = criterion(pred, Y)\r\n",
    "\r\n",
    "        #Reduce cost\r\n",
    "        optimizer.zero_grad()\r\n",
    "        cost.backward()\r\n",
    "        optimizer.step()\r\n",
    "\r\n",
    "        avg_cost += cost / total_Batch\r\n",
    "\r\n",
    "    print('Epoch: ', '%04d' % (epoch + 1), 'cost = ', '{:9f}'.format(avg_cost)) \r\n",
    "\r\n",
    "print('Learning finished')       \r\n",
    "\r\n"
   ],
   "outputs": [
    {
     "output_type": "stream",
     "name": "stdout",
     "text": [
      "Epoch:  0001 cost =   0.533753\n",
      "Epoch:  0002 cost =   0.359070\n",
      "Epoch:  0003 cost =   0.330854\n",
      "Epoch:  0004 cost =   0.316269\n",
      "Epoch:  0005 cost =   0.306896\n",
      "Epoch:  0006 cost =   0.299755\n",
      "Epoch:  0007 cost =   0.295043\n",
      "Epoch:  0008 cost =   0.290703\n",
      "Epoch:  0009 cost =   0.287395\n",
      "Epoch:  0010 cost =   0.284370\n",
      "Epoch:  0011 cost =   0.281918\n",
      "Epoch:  0012 cost =   0.279720\n",
      "Epoch:  0013 cost =   0.277782\n",
      "Epoch:  0014 cost =   0.275830\n",
      "Epoch:  0015 cost =   0.274403\n",
      "Learning finished\n"
     ]
    }
   ],
   "metadata": {}
  },
  {
   "cell_type": "markdown",
   "source": [
    "## Test the MNIST DATA"
   ],
   "metadata": {}
  },
  {
   "cell_type": "code",
   "execution_count": 9,
   "source": [
    "with torch.no_grad():\r\n",
    "    X_test = mnist_test.test_data.view(-1, 28 * 28).float().to(device)\r\n",
    "    Y_test = mnist_test.test_labels.to(device)\r\n",
    "\r\n",
    "    prediction = linear(X_test)\r\n",
    "    correct_prediction = torch.argmax(prediction, 1) == Y_test\r\n",
    "    accuracy = correct_prediction.float().mean()\r\n",
    "\r\n",
    "    print('Accuracy:', accuracy.item())\r\n",
    "\r\n",
    "    #Get one and Predict\r\n",
    "    r = random.randint(0, len(mnist_test) - 1)\r\n",
    "    X_single_data = mnist_test.test_data[r: r+1].view(-1, 28 * 28).float().to(device)\r\n",
    "    Y_single_data = mnist_test.test_labels[r: r+1].to(device)\r\n",
    "\r\n",
    "    print('Label: ', Y_single_data.item())\r\n",
    "    single_prediction = linear(X_single_data)\r\n",
    "    print('Prediction: ', torch.argmax(single_prediction).item())\r\n",
    "\r\n",
    "    plt.imshow(mnist_test.test_data[r: r+1].view(28, 28), cmap='Greys', interpolation='nearest')\r\n",
    "    plt.show()"
   ],
   "outputs": [
    {
     "output_type": "stream",
     "name": "stdout",
     "text": [
      "Accuracy: 0.8837999701499939\n",
      "Label:  4\n",
      "Prediction:  4\n"
     ]
    },
    {
     "output_type": "stream",
     "name": "stderr",
     "text": [
      "C:\\Users\\buddhalight\\envs\\buddhalight\\lib\\site-packages\\torchvision\\datasets\\mnist.py:67: UserWarning: test_data has been renamed data\n",
      "  warnings.warn(\"test_data has been renamed data\")\n",
      "C:\\Users\\buddhalight\\envs\\buddhalight\\lib\\site-packages\\torchvision\\datasets\\mnist.py:57: UserWarning: test_labels has been renamed targets\n",
      "  warnings.warn(\"test_labels has been renamed targets\")\n"
     ]
    },
    {
     "output_type": "display_data",
     "data": {
      "text/plain": [
       "<Figure size 432x288 with 1 Axes>"
      ],
      "image/png": "[encoded data removed]"
     },
     "metadata": {
      "needs_background": "light"
     }
    }
   ],
   "metadata": {}
  },
  {
   "cell_type": "markdown",
   "source": [
    "## Additional Section\r\n",
    "\r\n",
    "Let's make our model clear as we've done always and let's make our accuracy and prediction check as a function with multiple datas"
   ],
   "metadata": {}
  },
  {
   "cell_type": "code",
   "execution_count": 10,
   "source": [
    "class MNIST_Classifier(nn.Module):\r\n",
    "    def __init__(self):\r\n",
    "        super().__init__()\r\n",
    "        self.linear = nn.Linear(784, 10)\r\n",
    "\r\n",
    "    def forward(self, x):\r\n",
    "        return self.linear(x)"
   ],
   "outputs": [],
   "metadata": {}
  },
  {
   "cell_type": "code",
   "execution_count": 11,
   "source": [
    "model = MNIST_Classifier().to(device)"
   ],
   "outputs": [],
   "metadata": {}
  },
  {
   "cell_type": "code",
   "execution_count": 12,
   "source": [
    "optimizer = optim.SGD(model.parameters(), lr=0.1)"
   ],
   "outputs": [],
   "metadata": {}
  },
  {
   "cell_type": "markdown",
   "source": [
    "### Take a Moment!\r\n",
    "\r\n",
    "```len(data_loader)```\r\n",
    "\r\n",
    "returns the size of the each minibatch\r\n",
    "\r\n",
    "Since the batch paramenter of the Dataloader is\r\n",
    "\r\n",
    "- batch_size (int, optional) – how many samples per batch to load (default: 1).\r\n",
    "\r\n",
    "**Above code is an error. We should calculate the mini batches' each cost with the avg_cost / len(Y) (Y: the size of the minibatch)**"
   ],
   "metadata": {}
  },
  {
   "cell_type": "code",
   "execution_count": 13,
   "source": [
    "nb_epochs = 20\r\n",
    "\r\n",
    "for epoch in range(nb_epochs + 1):\r\n",
    "\r\n",
    "    #Get average cost of each batch\r\n",
    "    batch_cost = 0\r\n",
    "\r\n",
    "    for X, Y in data_loader:\r\n",
    "\r\n",
    "        #Change shape\r\n",
    "        X = X.view(-1, 28 * 28).to(device)\r\n",
    "        Y = Y.to(device)\r\n",
    "\r\n",
    "        #prediction\r\n",
    "        pred = model(X)\r\n",
    "\r\n",
    "        #cost\r\n",
    "        cost = F.cross_entropy(pred, Y).to(device)\r\n",
    "\r\n",
    "        #Reduce cost\r\n",
    "        optimizer.zero_grad()\r\n",
    "        cost.backward()\r\n",
    "        optimizer.step()\r\n",
    "        \r\n",
    "        #add cost\r\n",
    "        batch_cost += cost / len(Y)\r\n",
    "    print('Epoch: {:02d}/{}, Cost: {:.6f}'.format(epoch, nb_epochs, batch_cost))"
   ],
   "outputs": [
    {
     "output_type": "stream",
     "name": "stdout",
     "text": [
      "Epoch: 00/20, Cost: 3.219701\n",
      "Epoch: 01/20, Cost: 2.154164\n",
      "Epoch: 02/20, Cost: 1.985735\n",
      "Epoch: 03/20, Cost: 1.898885\n",
      "Epoch: 04/20, Cost: 1.840418\n",
      "Epoch: 05/20, Cost: 1.801127\n",
      "Epoch: 06/20, Cost: 1.769932\n",
      "Epoch: 07/20, Cost: 1.744671\n",
      "Epoch: 08/20, Cost: 1.723347\n",
      "Epoch: 09/20, Cost: 1.707192\n",
      "Epoch: 10/20, Cost: 1.690776\n",
      "Epoch: 11/20, Cost: 1.678285\n",
      "Epoch: 12/20, Cost: 1.666583\n",
      "Epoch: 13/20, Cost: 1.654378\n",
      "Epoch: 14/20, Cost: 1.645653\n",
      "Epoch: 15/20, Cost: 1.636773\n",
      "Epoch: 16/20, Cost: 1.629022\n",
      "Epoch: 17/20, Cost: 1.622370\n",
      "Epoch: 18/20, Cost: 1.614707\n",
      "Epoch: 19/20, Cost: 1.607378\n",
      "Epoch: 20/20, Cost: 1.602299\n"
     ]
    }
   ],
   "metadata": {}
  },
  {
   "cell_type": "markdown",
   "source": [
    "### Take a Moment!\r\n",
    "\r\n",
    "When I set above epochs as 100, the below accuracy shows only 7% of accuracy.\r\n",
    "When I set the epochs as 20, the accuracy was up to 88%. It is the good example of showing overfitting."
   ],
   "metadata": {}
  },
  {
   "cell_type": "markdown",
   "source": [
    "## Accurcacy Tester"
   ],
   "metadata": {}
  },
  {
   "cell_type": "markdown",
   "source": [
    "### Take a Moment!\r\n",
    "\r\n",
    "**TORCH.RANDINT**\r\n",
    "\r\n",
    "> torch.randint(low=0, high, size, *, generator=None, out=None, dtype=None, layout=torch.strided, device=None, requires_grad=False) → Tensor\r\n",
    "\r\n",
    "Returns a tensor filled with random integers generated uniformly between low (inclusive) and high (exclusive).\r\n",
    "\r\n",
    "The shape of the tensor is defined by the variable argument size.\r\n",
    "\r\n",
    "**NOTE**\r\n",
    "\r\n",
    "With the global dtype default (torch.float32), this function returns a tensor with dtype torch.int64.\r\n",
    "\r\n",
    "**Parameters**\r\n",
    "\r\n",
    "- low (int, optional) – Lowest integer to be drawn from the distribution. Default: 0.\r\n",
    "\r\n",
    "- high (int) – One above the highest integer to be drawn from the distribution.\r\n",
    "\r\n",
    "- size (tuple) – a tuple defining the shape of the output tensor."
   ],
   "metadata": {}
  },
  {
   "cell_type": "markdown",
   "source": [],
   "metadata": {}
  },
  {
   "cell_type": "code",
   "execution_count": 59,
   "source": [
    "def accuracy_tester(pred_num):\r\n",
    "\r\n",
    "    with torch.no_grad():\r\n",
    "        X_test = mnist_test.test_data.view(-1, 28 * 28).float().to(device)\r\n",
    "        Y_test = mnist_test.test_labels.to(device)\r\n",
    "\r\n",
    "        prediction = model(X_test)\r\n",
    "        correct_prediction = torch.argmax(prediction, 1) == Y_test\r\n",
    "        accuracy = correct_prediction.float().mean()*100\r\n",
    "\r\n",
    "        print('Total accuracy of test set: {:.6f}%'.format(accuracy.item()))\r\n",
    "\r\n",
    "        #Get multiple and Predict\r\n",
    "        r = random.randint(0, len(mnist_test) - pred_num)\r\n",
    "        X_multiple_data = mnist_test.test_data[r: r+pred_num].view(-1, 28 * 28).float().to(device)\r\n",
    "        Y_multiple_data = mnist_test.test_labels[r: r+pred_num].to(device)\r\n",
    "\r\n",
    "        for i, data in enumerate(X_multiple_data):\r\n",
    "            print('Label: ', Y_multiple_data[i].item())\r\n",
    "\r\n",
    "            single = model(data)\r\n",
    "\r\n",
    "            print('Prediction: ', torch.argmax(single).item())\r\n",
    "\r\n",
    "            data = data.to('cpu')\r\n",
    "            # if not above, the error : TypeError: can't convert cuda:0 device type tensor to numpy. Use Tensor.cpu() to copy the tensor to host memory first.\r\n",
    "            # Seems to enumerate method makes the tensor's feature corrupt.\r\n",
    "            \r\n",
    "            plt.imshow(data.view(28, 28), cmap='Greys', interpolation='nearest')\r\n",
    "            plt.show()\r\n",
    "\r\n",
    "accuracy_tester(5)"
   ],
   "outputs": [
    {
     "output_type": "stream",
     "name": "stdout",
     "text": [
      "Total accuracy of test set: 88.089996%\n",
      "Label:  1\n",
      "Prediction:  1\n"
     ]
    },
    {
     "output_type": "stream",
     "name": "stderr",
     "text": [
      "C:\\Users\\buddhalight\\envs\\buddhalight\\lib\\site-packages\\torchvision\\datasets\\mnist.py:67: UserWarning: test_data has been renamed data\n",
      "  warnings.warn(\"test_data has been renamed data\")\n",
      "C:\\Users\\buddhalight\\envs\\buddhalight\\lib\\site-packages\\torchvision\\datasets\\mnist.py:57: UserWarning: test_labels has been renamed targets\n",
      "  warnings.warn(\"test_labels has been renamed targets\")\n"
     ]
    },
    {
     "output_type": "display_data",
     "data": {
      "text/plain": [
       "<Figure size 432x288 with 1 Axes>"
      ],
      "image/png": "[encoded data removed]"
     },
     "metadata": {
      "needs_background": "light"
     }
    },
    {
     "output_type": "stream",
     "name": "stdout",
     "text": [
      "Label:  2\n",
      "Prediction:  2\n"
     ]
    },
    {
     "output_type": "display_data",
     "data": {
      "text/plain": [
       "<Figure size 432x288 with 1 Axes>"
      ],
      "image/png": "[encoded data removed]"
     },
     "metadata": {
      "needs_background": "light"
     }
    },
    {
     "output_type": "stream",
     "name": "stdout",
     "text": [
      "Label:  3\n",
      "Prediction:  8\n"
     ]
    },
    {
     "output_type": "display_data",
     "data": {
      "text/plain": [
       "<Figure size 432x288 with 1 Axes>"
      ],
      "image/png": "[encoded data removed]"
     },
     "metadata": {
      "needs_background": "light"
     }
    },
    {
     "output_type": "stream",
     "name": "stdout",
     "text": [
      "Label:  7\n",
      "Prediction:  7\n"
     ]
    },
    {
     "output_type": "display_data",
     "data": {
      "text/plain": [
       "<Figure size 432x288 with 1 Axes>"
      ],
      "image/png": "[encoded data removed]"
     },
     "metadata": {
      "needs_background": "light"
     }
    },
    {
     "output_type": "stream",
     "name": "stdout",
     "text": [
      "Label:  9\n",
      "Prediction:  9\n"
     ]
    },
    {
     "output_type": "display_data",
     "data": {
      "text/plain": [
       "<Figure size 432x288 with 1 Axes>"
      ],
      "image/png": "[encoded data removed]"
     },
     "metadata": {
      "needs_background": "light"
     }
    }
   ],
   "metadata": {}
  }
 ],
 "metadata": {
  "orig_nbformat": 4,
  "language_info": {
   "name": "python",
   "version": "3.8.8",
   "mimetype": "text/x-python",
   "codemirror_mode": {
    "name": "ipython",
    "version": 3
   },
   "pygments_lexer": "ipython3",
   "nbconvert_exporter": "python",
   "file_extension": ".py"
  },
  "kernelspec": {
   "name": "python3",
   "display_name": "Python 3.8.8 64-bit ('buddhalight': conda)"
  },
  "interpreter": {
   "hash": "38ed4d61829b01de31b0fe0651719916120d9f7e023a62cbbfea93b7d24a50a0"
  }
 },
 "nbformat": 4,
 "nbformat_minor": 2
}