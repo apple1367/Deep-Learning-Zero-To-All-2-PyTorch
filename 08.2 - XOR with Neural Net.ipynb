{
 "cells": [
  {
   "cell_type": "markdown",
   "source": [
    "# Lab 8-2: XOR with Nerual Net\r\n",
    "\r\n",
    "Edited By Steve Ive\r\n",
    "\r\n",
    "Reference from\r\n",
    "\r\n",
    "https://github.com/deeplearningzerotoall/PyTorch/blob/master/lab-08_2_xor_nn.ipynb\r\n",
    "\r\n",
    "Here, we are going to learn about how the multi-layer perceptron can solve the XOR Problem."
   ],
   "metadata": {}
  },
  {
   "cell_type": "markdown",
   "source": [
    "## Imports"
   ],
   "metadata": {}
  },
  {
   "cell_type": "code",
   "execution_count": 16,
   "source": [
    "import torch\r\n",
    "import torch.nn as nn\r\n",
    "import torch.nn.functional as F\r\n",
    "import torch.optim as optim"
   ],
   "outputs": [],
   "metadata": {}
  },
  {
   "cell_type": "code",
   "execution_count": 17,
   "source": [
    "device = 'cuda' if torch.cuda.is_available() else 'cpu'\r\n",
    "\r\n",
    "torch.manual_seed(1)\r\n",
    "if device == 'cuda':\r\n",
    "    torch.cuda.manual_seed_all(1)"
   ],
   "outputs": [],
   "metadata": {}
  },
  {
   "cell_type": "markdown",
   "source": [
    "## Define the XOR Problem"
   ],
   "metadata": {}
  },
  {
   "cell_type": "code",
   "execution_count": 18,
   "source": [
    "X = torch.FloatTensor([[0, 0], [0, 1], [1, 0], [1, 1]]).to(device)\r\n",
    "Y = torch.FloatTensor([[0], [1], [1], [0]]).to(device)"
   ],
   "outputs": [],
   "metadata": {}
  },
  {
   "cell_type": "markdown",
   "source": [
    "## Create the Multi Layer Perceptron (Multi Linear Layer)"
   ],
   "metadata": {}
  },
  {
   "cell_type": "code",
   "execution_count": 19,
   "source": [
    "# nn Layers\r\n",
    "linear1 = nn.Linear(2, 2)\r\n",
    "linear2 = nn.Linear(2, 1)\r\n",
    "sigmoid = nn.Sigmoid()"
   ],
   "outputs": [],
   "metadata": {}
  },
  {
   "cell_type": "code",
   "execution_count": 20,
   "source": [
    "#model\r\n",
    "model = nn.Sequential(linear1, sigmoid, linear2, sigmoid).to(device)"
   ],
   "outputs": [],
   "metadata": {}
  },
  {
   "cell_type": "code",
   "execution_count": 21,
   "source": [
    "#define cost & optimizer\r\n",
    "criterion = nn.BCELoss().to(device)\r\n",
    "optimizer = optim.SGD(model.parameters(), lr=1)"
   ],
   "outputs": [],
   "metadata": {}
  },
  {
   "cell_type": "markdown",
   "source": [
    "## Train the multi layer perceptron(Neural Network)\r\n",
    "\r\n",
    "We can say multi layer(over 1 layer) perceptron with backpropagation as **'Neural Network'**.\r\n",
    "\r\n",
    "Actually, the MLP (Multi Layer Perceptron) is the subset of the DNN (Neural Network).\r\n",
    "\r\n",
    "About the DNN, NN, and MLP, please check additional writes at 08.0 - About the Neural Network.md"
   ],
   "metadata": {}
  },
  {
   "cell_type": "code",
   "execution_count": 22,
   "source": [
    "for step in range(10001):\r\n",
    "\r\n",
    "    #prediction\r\n",
    "    pred = model(X)\r\n",
    "\r\n",
    "    #cost\r\n",
    "    cost = criterion(pred, Y)\r\n",
    "\r\n",
    "    #Reduce cost\r\n",
    "    optimizer.zero_grad()\r\n",
    "    cost.backward()\r\n",
    "    optimizer.step()\r\n",
    "\r\n",
    "    if step % 1000 == 0:\r\n",
    "        result = sigmoid(pred).squeeze().detach().cpu().numpy()\r\n",
    "        print('Epoch:{:2d}/10000, result: {} cost: {:.6f}'.format(step, result, cost.item()))"
   ],
   "outputs": [
    {
     "output_type": "stream",
     "name": "stdout",
     "text": [
      "Epoch: 0/10000, result: [0.6378827  0.63997304 0.6364925  0.63870925] cost: 0.702758\n",
      "Epoch:1000/10000, result: [0.6133584  0.5975663  0.67112035 0.6092756 ] cost: 0.618071\n",
      "Epoch:2000/10000, result: [0.5035969  0.72880906 0.7289416  0.5031296 ] cost: 0.012341\n",
      "Epoch:3000/10000, result: [0.50156736 0.7300963  0.73012793 0.5013755 ] cost: 0.005362\n",
      "Epoch:4000/10000, result: [0.50099635 0.730452   0.7304612  0.50087863] cost: 0.003411\n",
      "Epoch:5000/10000, result: [0.500729   0.7306182  0.73061895 0.50064355] cost: 0.002494\n",
      "Epoch:6000/10000, result: [0.5005743  0.73070943 0.73071426 0.500508  ] cost: 0.001966\n",
      "Epoch:7000/10000, result: [0.5004734  0.7307734  0.7307743  0.50041914] cost: 0.001618\n",
      "Epoch:8000/10000, result: [0.5004025  0.73081535 0.73081684 0.5003571 ] cost: 0.001377\n",
      "Epoch:9000/10000, result: [0.5003502  0.7308465  0.7308482  0.50031084] cost: 0.001199\n",
      "Epoch:10000/10000, result: [0.50030965 0.73087233 0.7308715  0.50027514] cost: 0.001060\n"
     ]
    }
   ],
   "metadata": {}
  },
  {
   "cell_type": "markdown",
   "source": [
    "## Results\r\n",
    "\r\n",
    "As below, the prediction shows the multi layer perceptron solved the XOR problem.\r\n",
    "\r\n",
    "We can say this as ***non-linear*** function, that multi layering can act as non-linear function, otherwise the single layer perceptron can only be as ***linear*** function."
   ],
   "metadata": {}
  },
  {
   "cell_type": "code",
   "execution_count": 23,
   "source": [
    "#Accuracy computation\r\n",
    "#True if hypothesis > 0.5 else False\r\n",
    "\r\n",
    "with torch.no_grad():\r\n",
    "    prediction = model(X)\r\n",
    "    predicted = (prediction > 0.5).float()\r\n",
    "    accuracy = (predicted == Y).float().mean()\r\n",
    "\r\n",
    "    print('Prediction: {} \\nPredicted: {}\\nAccuracy: {}'.format(prediction.squeeze().detach().cpu().numpy(), predicted.squeeze().detach().cpu().numpy(), accuracy))"
   ],
   "outputs": [
    {
     "output_type": "stream",
     "name": "stdout",
     "text": [
      "Prediction: [0.00123849 0.99905306 0.9990484  0.00110031] \n",
      "Predicted: [0. 1. 1. 0.]\n",
      "Accuracy: 1.0\n"
     ]
    }
   ],
   "metadata": {}
  },
  {
   "cell_type": "markdown",
   "source": [
    "## High-level Implementation with ```nn.Module```"
   ],
   "metadata": {}
  },
  {
   "cell_type": "code",
   "execution_count": 24,
   "source": [
    "class XOR_MultiLayer(nn.Module):\r\n",
    "    def __init__(self):\r\n",
    "        super().__init__()\r\n",
    "        self.linear1 = nn.Linear(2, 2)\r\n",
    "        self.linear2 = nn.Linear(2, 1)\r\n",
    "        self.sigmoid = nn.Sigmoid()\r\n",
    "\r\n",
    "    def forward(self, x):\r\n",
    "        return nn.Sequential(\r\n",
    "            linear1,\r\n",
    "            sigmoid,\r\n",
    "            linear2,\r\n",
    "            sigmoid\r\n",
    "        )(x)"
   ],
   "outputs": [],
   "metadata": {}
  },
  {
   "cell_type": "code",
   "execution_count": 25,
   "source": [
    "model = XOR_MultiLayer()"
   ],
   "outputs": [],
   "metadata": {}
  },
  {
   "cell_type": "code",
   "execution_count": 26,
   "source": [
    "optimizer = optim.SGD(model.parameters(), lr=1)"
   ],
   "outputs": [],
   "metadata": {}
  },
  {
   "cell_type": "markdown",
   "source": [
    "### Take a Moment!\r\n",
    "\r\n",
    "just writing as ```nn.Sigmoid(pred)``` makes an error of \"TypeError: __init__() takes 1 positional argument but 2 were given.\"\r\n",
    "\r\n",
    "=> You are using it as an instance method so you must include self as the first argument\r\n",
    "\r\n",
    "https://stackoverflow.com/questions/50275814/sigmoid-takes-1-positional-argument-but-2-were-given\r\n",
    "\r\n",
    "---\r\n",
    "\r\n",
    "So we should use torch.sigmoid if we want to apply the sigmoid."
   ],
   "metadata": {}
  },
  {
   "cell_type": "code",
   "execution_count": 27,
   "source": [
    "nb_epochs = 10001\r\n",
    "\r\n",
    "for epoch in range(nb_epochs):\r\n",
    "\r\n",
    "    #prediction\r\n",
    "    pred = model(X)\r\n",
    "\r\n",
    "    #cost function\r\n",
    "    cost = F.binary_cross_entropy(pred, Y)\r\n",
    "\r\n",
    "    #Reduce cost\r\n",
    "    optimizer.zero_grad()\r\n",
    "    cost.backward()\r\n",
    "    optimizer.step()\r\n",
    "\r\n",
    "    if epoch % 1000 == 0:\r\n",
    "        result = torch.sigmoid(pred).squeeze().detach().cpu().numpy()\r\n",
    "        print('Epoch: {:2d}/10000, result: {}, cost: {:.6f}'.format(epoch, result, cost.item()))"
   ],
   "outputs": [
    {
     "output_type": "stream",
     "name": "stdout",
     "text": [
      "Epoch:  0/10000, result: [0.50030965 0.73087233 0.7308715  0.5002751 ], cost: 0.001060\n",
      "Epoch: 1000/10000, result: [0.50030965 0.73087233 0.7308715  0.5002751 ], cost: 0.001060\n",
      "Epoch: 2000/10000, result: [0.50030965 0.73087233 0.7308715  0.5002751 ], cost: 0.001060\n",
      "Epoch: 3000/10000, result: [0.50030965 0.73087233 0.7308715  0.5002751 ], cost: 0.001060\n",
      "Epoch: 4000/10000, result: [0.50030965 0.73087233 0.7308715  0.5002751 ], cost: 0.001060\n",
      "Epoch: 5000/10000, result: [0.50030965 0.73087233 0.7308715  0.5002751 ], cost: 0.001060\n",
      "Epoch: 6000/10000, result: [0.50030965 0.73087233 0.7308715  0.5002751 ], cost: 0.001060\n",
      "Epoch: 7000/10000, result: [0.50030965 0.73087233 0.7308715  0.5002751 ], cost: 0.001060\n",
      "Epoch: 8000/10000, result: [0.50030965 0.73087233 0.7308715  0.5002751 ], cost: 0.001060\n",
      "Epoch: 9000/10000, result: [0.50030965 0.73087233 0.7308715  0.5002751 ], cost: 0.001060\n",
      "Epoch: 10000/10000, result: [0.50030965 0.73087233 0.7308715  0.5002751 ], cost: 0.001060\n"
     ]
    }
   ],
   "metadata": {}
  },
  {
   "cell_type": "code",
   "execution_count": 28,
   "source": [
    "#Accuracy computation\r\n",
    "#True if hypothesis > 0.5 else False\r\n",
    "\r\n",
    "with torch.no_grad():\r\n",
    "    prediction = model(X)\r\n",
    "    predicted = (prediction > 0.5).float()\r\n",
    "    accuracy = (predicted == Y).float().mean()\r\n",
    "\r\n",
    "    print('Prediction: {} \\nPredicted: {}\\nAccuracy: {}'.format(prediction.squeeze().detach().cpu().numpy(), predicted.squeeze().detach().cpu().numpy(), accuracy))"
   ],
   "outputs": [
    {
     "output_type": "stream",
     "name": "stdout",
     "text": [
      "Prediction: [0.00123849 0.99905306 0.9990484  0.00110031] \n",
      "Predicted: [0. 1. 1. 0.]\n",
      "Accuracy: 1.0\n"
     ]
    }
   ],
   "metadata": {}
  }
 ],
 "metadata": {
  "orig_nbformat": 4,
  "language_info": {
   "name": "python",
   "version": "3.8.8",
   "mimetype": "text/x-python",
   "codemirror_mode": {
    "name": "ipython",
    "version": 3
   },
   "pygments_lexer": "ipython3",
   "nbconvert_exporter": "python",
   "file_extension": ".py"
  },
  "kernelspec": {
   "name": "python3",
   "display_name": "Python 3.8.8 64-bit ('buddhalight': conda)"
  },
  "interpreter": {
   "hash": "38ed4d61829b01de31b0fe0651719916120d9f7e023a62cbbfea93b7d24a50a0"
  }
 },
 "nbformat": 4,
 "nbformat_minor": 2
}