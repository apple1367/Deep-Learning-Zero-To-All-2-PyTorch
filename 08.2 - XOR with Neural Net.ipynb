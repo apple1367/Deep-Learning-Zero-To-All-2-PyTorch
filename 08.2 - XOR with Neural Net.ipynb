{
 "cells": [
  {
   "cell_type": "markdown",
   "source": [
    "# Lab 8-2: XOR with Nerual Net\r\n",
    "\r\n",
    "Edited By Steve Ive\r\n",
    "\r\n",
    "Reference from\r\n",
    "\r\n",
    "https://github.com/deeplearningzerotoall/PyTorch/blob/master/lab-08_2_xor_nn.ipynb\r\n",
    "\r\n",
    "Here, we are going to learn about how the multi-layer perceptron can solve the XOR Problem."
   ],
   "metadata": {}
  },
  {
   "cell_type": "markdown",
   "source": [
    "## Imports"
   ],
   "metadata": {}
  },
  {
   "cell_type": "code",
   "execution_count": 7,
   "source": [
    "import torch\r\n",
    "import torch.nn as nn\r\n",
    "import torch.nn.functional as F\r\n",
    "import torch.optim as optim"
   ],
   "outputs": [],
   "metadata": {}
  },
  {
   "cell_type": "code",
   "execution_count": 8,
   "source": [
    "device = 'cuda' if torch.cuda.is_available() else 'cpu'\r\n",
    "\r\n",
    "torch.manual_seed(1)\r\n",
    "if device == 'cuda':\r\n",
    "    torch.cuda.manual_seed_all(1)"
   ],
   "outputs": [],
   "metadata": {}
  },
  {
   "cell_type": "markdown",
   "source": [
    "## Define the XOR Problem"
   ],
   "metadata": {}
  },
  {
   "cell_type": "code",
   "execution_count": 9,
   "source": [
    "X = torch.FloatTensor([[0, 0], [0, 1], [1, 0], [1, 1]]).to(device)\r\n",
    "Y = torch.FloatTensor([[0], [1], [1], [0]]).to(device)"
   ],
   "outputs": [],
   "metadata": {}
  },
  {
   "cell_type": "markdown",
   "source": [
    "## Create the Multi Layer Perceptron (Multi Linear Layer)"
   ],
   "metadata": {}
  },
  {
   "cell_type": "code",
   "execution_count": 10,
   "source": [
    "# nn Layers\r\n",
    "linear1 = nn.Linear(2, 2)\r\n",
    "linear2 = nn.Linear(2, 1)\r\n",
    "sigmoid = nn.Sigmoid()"
   ],
   "outputs": [],
   "metadata": {}
  },
  {
   "cell_type": "code",
   "execution_count": 11,
   "source": [
    "#model\r\n",
    "model = nn.Sequential(linear1, sigmoid, linear2, sigmoid).to(device)"
   ],
   "outputs": [],
   "metadata": {}
  },
  {
   "cell_type": "code",
   "execution_count": 13,
   "source": [
    "#define cost & optimizer\r\n",
    "criterion = nn.BCELoss().to(device)\r\n",
    "optimizer = optim.SGD(model.parameters(), lr=1)"
   ],
   "outputs": [],
   "metadata": {}
  },
  {
   "cell_type": "markdown",
   "source": [
    "## Train the multi layer perceptron(Neural Network)\r\n",
    "\r\n",
    "We can say multi layer(over 1 layer) perceptron with backpropagation as **'Neural Network'**.\r\n",
    "\r\n",
    "Actually, the MLP (Multi Layer Perceptron) is the subset of the NN (Neural Network).\r\n",
    "\r\n",
    "Check additional at \"08.0 - About the Neural Network.md\""
   ],
   "metadata": {}
  },
  {
   "cell_type": "code",
   "execution_count": 16,
   "source": [
    "for step in range(10001):\r\n",
    "\r\n",
    "    #prediction\r\n",
    "    pred = model(X)\r\n",
    "\r\n",
    "    #cost\r\n",
    "    cost = criterion(pred, Y)\r\n",
    "\r\n",
    "    #Reduce cost\r\n",
    "    optimizer.zero_grad()\r\n",
    "    cost.backward()\r\n",
    "    optimizer.step()\r\n",
    "\r\n",
    "    if step % 1000 == 0:\r\n",
    "        result = sigmoid(pred).squeeze().detach().cpu().numpy()\r\n",
    "        print('Epoch:{:2d}/10000, result: {} cost: {:.6f}'.format(step, result, cost.item()))"
   ],
   "outputs": [
    {
     "output_type": "stream",
     "name": "stdout",
     "text": [
      "Epoch: 0/10000, result: [0.5002166 0.7309286 0.7309275 0.500193 ] cost: 0.000742\n",
      "Epoch:1000/10000, result: [0.5002003  0.7309382  0.73093814 0.5001784 ] cost: 0.000685\n",
      "Epoch:2000/10000, result: [0.50018626 0.730946   0.730946   0.50016606] cost: 0.000639\n",
      "Epoch:3000/10000, result: [0.5001741  0.7309538  0.7309539  0.50015545] cost: 0.000596\n",
      "Epoch:4000/10000, result: [0.50016344 0.73096    0.73096013 0.5001458 ] cost: 0.000560\n",
      "Epoch:5000/10000, result: [0.500154   0.7309647  0.7309656  0.50013745] cost: 0.000529\n",
      "Epoch:6000/10000, result: [0.50014555 0.7309702  0.7309711  0.50012994] cost: 0.000499\n",
      "Epoch:7000/10000, result: [0.500138   0.7309755  0.73097515 0.50012344] cost: 0.000473\n",
      "Epoch:8000/10000, result: [0.50013125 0.7309796  0.73097867 0.5001173 ] cost: 0.000451\n",
      "Epoch:9000/10000, result: [0.50012505 0.73098314 0.7309828  0.5001116 ] cost: 0.000429\n",
      "Epoch:10000/10000, result: [0.5001194  0.73098606 0.7309863  0.5001068 ] cost: 0.000410\n"
     ]
    }
   ],
   "metadata": {}
  },
  {
   "cell_type": "markdown",
   "source": [
    "## Results\r\n",
    "\r\n",
    "As below, the prediction shows the multi layer perceptron solved the XOR problem.\r\n",
    "\r\n",
    "We can say this as ***non-linear*** function, that multi layering can act as non-linear function, otherwise the single layer perceptron can only be as ***linear*** function."
   ],
   "metadata": {}
  },
  {
   "cell_type": "code",
   "execution_count": 20,
   "source": [
    "#Accuracy computation\r\n",
    "#True if hypothesis > 0.5 else False\r\n",
    "\r\n",
    "with torch.no_grad():\r\n",
    "    prediction = model(X)\r\n",
    "    predicted = (prediction > 0.5).float()\r\n",
    "    accuracy = (predicted == Y).float().mean()\r\n",
    "\r\n",
    "    print('Prediction: {} \\nPredicted: {}\\nAccuracy: {}'.format(prediction.squeeze().detach().cpu().numpy(), predicted.squeeze().detach().cpu().numpy(), accuracy))"
   ],
   "outputs": [
    {
     "output_type": "stream",
     "name": "stdout",
     "text": [
      "Prediction: [4.7771266e-04 9.9963677e-01 9.9963248e-01 4.2746044e-04] \n",
      "Predicted: [0. 1. 1. 0.]\n",
      "Accuracy: 1.0\n"
     ]
    }
   ],
   "metadata": {}
  },
  {
   "cell_type": "code",
   "execution_count": null,
   "source": [],
   "outputs": [],
   "metadata": {}
  }
 ],
 "metadata": {
  "orig_nbformat": 4,
  "language_info": {
   "name": "python",
   "version": "3.8.8",
   "mimetype": "text/x-python",
   "codemirror_mode": {
    "name": "ipython",
    "version": 3
   },
   "pygments_lexer": "ipython3",
   "nbconvert_exporter": "python",
   "file_extension": ".py"
  },
  "kernelspec": {
   "name": "python3",
   "display_name": "Python 3.8.8 64-bit ('buddhalight': conda)"
  },
  "interpreter": {
   "hash": "38ed4d61829b01de31b0fe0651719916120d9f7e023a62cbbfea93b7d24a50a0"
  }
 },
 "nbformat": 4,
 "nbformat_minor": 2
}