{
 "cells": [
  {
   "cell_type": "markdown",
   "source": [
    "# Lab 9.5: Relu + Xavier MNIST Classifier\r\n",
    "\r\n",
    "Edited By Steve Ive\r\n",
    "\r\n",
    "Reference from\r\n",
    "\r\n",
    "https://github.com/deeplearningzerotoall/PyTorch/blob/master/lab-09_4_mnist_nn_deep.ipynb"
   ],
   "metadata": {}
  },
  {
   "cell_type": "markdown",
   "source": [
    "## Imports"
   ],
   "metadata": {}
  },
  {
   "cell_type": "code",
   "execution_count": 43,
   "source": [
    "import torch\r\n",
    "import torch.nn as nn\r\n",
    "import torch.nn.functional as F\r\n",
    "import torch.optim as optim\r\n",
    "import torchvision.datasets as datasets\r\n",
    "import torchvision.transforms as transforms\r\n",
    "import random"
   ],
   "outputs": [],
   "metadata": {}
  },
  {
   "cell_type": "code",
   "execution_count": 44,
   "source": [
    "device = 'cuda' if torch.cuda.is_available() else 'cpu'\r\n",
    "\r\n",
    "random.seed(1)\r\n",
    "torch.manual_seed(1)\r\n",
    "\r\n",
    "if device == 'cuda':\r\n",
    "    torch.cuda.manual_seed_all(1)"
   ],
   "outputs": [],
   "metadata": {}
  },
  {
   "cell_type": "markdown",
   "source": [
    "## Load MNIST Data"
   ],
   "metadata": {}
  },
  {
   "cell_type": "code",
   "execution_count": 45,
   "source": [
    "mnist_train = datasets.MNIST(root = 'MNIST_data/',\r\n",
    "                             download=True,\r\n",
    "                             transform=transforms.ToTensor(),\r\n",
    "                             train=True)\r\n",
    "mnist_test = datasets.MNIST(root = 'MNIST_data/',\r\n",
    "                            download=True,\r\n",
    "                            transform=transforms.ToTensor(),\r\n",
    "                            train= False)"
   ],
   "outputs": [],
   "metadata": {}
  },
  {
   "cell_type": "markdown",
   "source": [
    "## Set Hyperparameters"
   ],
   "metadata": {}
  },
  {
   "cell_type": "code",
   "execution_count": 46,
   "source": [
    "learning_rate = 0.001\r\n",
    "batch_size = 100\r\n",
    "training_epochs = 15"
   ],
   "outputs": [],
   "metadata": {}
  },
  {
   "cell_type": "code",
   "execution_count": 47,
   "source": [
    "data_loader = torch.utils.data.DataLoader(dataset = mnist_train, shuffle = True, drop_last=True, batch_size = batch_size)"
   ],
   "outputs": [],
   "metadata": {}
  },
  {
   "cell_type": "markdown",
   "source": [
    "## Define Model"
   ],
   "metadata": {}
  },
  {
   "cell_type": "code",
   "execution_count": 48,
   "source": [
    "class ReLuXavierMNISTClassifier(nn.Module):\r\n",
    "    def __init__(self):\r\n",
    "        super().__init__()\r\n",
    "        self.sq = nn.Sequential(\r\n",
    "            nn.Linear(784, 516),\r\n",
    "            nn.ReLU(),\r\n",
    "            nn.Linear(516, 516),\r\n",
    "            nn.ReLU(),\r\n",
    "            nn.Linear(516, 516),\r\n",
    "            nn.ReLU(),\r\n",
    "            nn.Linear(516, 516),\r\n",
    "            nn.ReLU(),\r\n",
    "            nn.Linear(516, 10)\r\n",
    "        )\r\n",
    "        self.weightInitializer()\r\n",
    "\r\n",
    "    def weightInitializer(self):\r\n",
    "        for index, layer in enumerate(self.sq):\r\n",
    "            if index != 1 and index != 3 and index != 5 and index != 7:\r\n",
    "                nn.init.xavier_uniform_(layer.weight)\r\n",
    "\r\n",
    "    def forward(self, x):\r\n",
    "        return self.sq(x)"
   ],
   "outputs": [],
   "metadata": {}
  },
  {
   "cell_type": "code",
   "execution_count": 49,
   "source": [
    "model = ReLuXavierMNISTClassifier().to(device)"
   ],
   "outputs": [],
   "metadata": {}
  },
  {
   "cell_type": "code",
   "execution_count": 50,
   "source": [
    "optimizer = optim.Adam(model.parameters(), lr=learning_rate)"
   ],
   "outputs": [],
   "metadata": {}
  },
  {
   "cell_type": "markdown",
   "source": [
    "## Train Model"
   ],
   "metadata": {}
  },
  {
   "cell_type": "code",
   "execution_count": 51,
   "source": [
    "total_batch = len(data_loader)\r\n",
    "\r\n",
    "for epoch in range(training_epochs):\r\n",
    "\r\n",
    "    avg_cost = 0\r\n",
    "\r\n",
    "    for X, Y in data_loader:\r\n",
    "\r\n",
    "        X = X.view(-1, 28 * 28).to(device)\r\n",
    "        Y = Y.to(device)\r\n",
    "\r\n",
    "        #prediction\r\n",
    "        pred = model(X)\r\n",
    "\r\n",
    "        #cost\r\n",
    "        cost = F.cross_entropy(pred, Y).to(device)\r\n",
    "\r\n",
    "        #Reduce cost\r\n",
    "        optimizer.zero_grad()\r\n",
    "        cost.backward()\r\n",
    "        optimizer.step()\r\n",
    "\r\n",
    "        avg_cost += cost\r\n",
    "\r\n",
    "    avg_cost = avg_cost / total_batch\r\n",
    "\r\n",
    "    print('Epoch: {} / 15, Cost: {:.6f}'.format(epoch+1, avg_cost.item()))\r\n",
    "\r\n",
    "print('Learning Finished')"
   ],
   "outputs": [
    {
     "output_type": "stream",
     "name": "stdout",
     "text": [
      "Epoch: 1 / 15, Cost: 0.212796\n",
      "Epoch: 2 / 15, Cost: 0.087777\n",
      "Epoch: 3 / 15, Cost: 0.061607\n",
      "Epoch: 4 / 15, Cost: 0.048517\n",
      "Epoch: 5 / 15, Cost: 0.043476\n",
      "Epoch: 6 / 15, Cost: 0.031130\n",
      "Epoch: 7 / 15, Cost: 0.030316\n",
      "Epoch: 8 / 15, Cost: 0.023586\n",
      "Epoch: 9 / 15, Cost: 0.023560\n",
      "Epoch: 10 / 15, Cost: 0.021674\n",
      "Epoch: 11 / 15, Cost: 0.021906\n",
      "Epoch: 12 / 15, Cost: 0.017494\n",
      "Epoch: 13 / 15, Cost: 0.015295\n",
      "Epoch: 14 / 15, Cost: 0.019556\n",
      "Epoch: 15 / 15, Cost: 0.014361\n"
     ]
    }
   ],
   "metadata": {}
  },
  {
   "cell_type": "code",
   "execution_count": 52,
   "source": [
    "#Accuracy Test and Check Prediction\r\n",
    "\r\n",
    "with torch.no_grad():\r\n",
    "\r\n",
    "    X_test = mnist_test.data.view(-1, 28 * 28).float().to(device)\r\n",
    "    Y_test = mnist_test.targets.to(device)\r\n",
    "\r\n",
    "    pred = model(X_test)\r\n",
    "    correct_prediction = (torch.argmax(pred, 1) == Y_test)\r\n",
    "    accuracy = correct_prediction.float().mean()\r\n",
    "\r\n",
    "    print('Accuracy: {}'.format(accuracy))\r\n",
    "\r\n",
    "    r = random.randint(0, len(mnist_test) - 1)\r\n",
    "\r\n",
    "    X_single_prediction = X_test[r]\r\n",
    "    Y_single_prediction = Y_test[r]\r\n",
    "\r\n",
    "    print('Label: {}'.format(Y_single_prediction.item()))\r\n",
    "    print('Prediction: {}'.format(torch.argmax(model(X_single_prediction)).item()))"
   ],
   "outputs": [
    {
     "output_type": "stream",
     "name": "stdout",
     "text": [
      "Accuracy: 0.9817000031471252\n",
      "Label: 4\n",
      "Prediction: 4\n"
     ]
    }
   ],
   "metadata": {}
  }
 ],
 "metadata": {
  "orig_nbformat": 4,
  "language_info": {
   "name": "python",
   "version": "3.8.8"
  },
  "kernelspec": {
   "name": "python3",
   "display_name": "Python 3.8.8 64-bit ('buddhalight': conda)"
  },
  "interpreter": {
   "hash": "38ed4d61829b01de31b0fe0651719916120d9f7e023a62cbbfea93b7d24a50a0"
  }
 },
 "nbformat": 4,
 "nbformat_minor": 2
}