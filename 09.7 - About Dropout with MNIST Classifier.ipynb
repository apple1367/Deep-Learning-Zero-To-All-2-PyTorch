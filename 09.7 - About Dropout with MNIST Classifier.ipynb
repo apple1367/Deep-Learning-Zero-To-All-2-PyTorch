{
 "cells": [
  {
   "cell_type": "markdown",
   "source": [
    "# Lab 9.7 - About Dropout with MNIST Classifier\r\n",
    "\r\n",
    "Edited By Steve Ive\r\n",
    "\r\n",
    "Here, we are going to adapt the new module, **Dropout** that makes the neural network more compatible to the general data, one of the techniques to prevent overfitting as a regularization. We are going to create the multi layer neural network as always, additional with Dropout.\r\n",
    "\r\n",
    "Reference from\r\n",
    "\r\n",
    "https://github.com/deeplearningzerotoall/PyTorch/blob/master/lab-09_5_mnist_nn_dropout.ipynb"
   ],
   "metadata": {}
  },
  {
   "cell_type": "markdown",
   "source": [
    "## Imports"
   ],
   "metadata": {}
  },
  {
   "cell_type": "code",
   "execution_count": 56,
   "source": [
    "import torch\r\n",
    "import torch.nn as nn\r\n",
    "import torch.nn.functional as F\r\n",
    "import torch.optim as optim\r\n",
    "import torchvision.datasets as datasets\r\n",
    "import torchvision.transforms as transforms\r\n",
    "import random"
   ],
   "outputs": [],
   "metadata": {}
  },
  {
   "cell_type": "code",
   "execution_count": 57,
   "source": [
    "device = 'cuda' if torch.cuda.is_available() else 'cpu'\r\n",
    "\r\n",
    "random.seed(1)\r\n",
    "torch.manual_seed(1)\r\n",
    "\r\n",
    "if device == 'cuda':\r\n",
    "    torch.cuda.manual_seed_all(1)"
   ],
   "outputs": [],
   "metadata": {}
  },
  {
   "cell_type": "code",
   "execution_count": 58,
   "source": [
    "mnist_train = datasets.MNIST(root = 'MNIST_data/',\r\n",
    "                             download = True,\r\n",
    "                             transform = transforms.ToTensor(),\r\n",
    "                             train=True)\r\n",
    "mnist_test = datasets.MNIST(root = 'MNIST_data/',\r\n",
    "                            download = True,\r\n",
    "                            transform = transforms.ToTensor(),\r\n",
    "                            train = False)"
   ],
   "outputs": [],
   "metadata": {}
  },
  {
   "cell_type": "code",
   "execution_count": 59,
   "source": [
    "training_epochs = 15\r\n",
    "batch_size = 100\r\n",
    "learning_rate = 0.001\r\n",
    "drop_prob = 0.3"
   ],
   "outputs": [],
   "metadata": {}
  },
  {
   "cell_type": "code",
   "execution_count": 60,
   "source": [
    "data_loader = torch.utils.data.DataLoader(dataset=mnist_train, shuffle = True, drop_last = True, batch_size = batch_size)"
   ],
   "outputs": [],
   "metadata": {}
  },
  {
   "cell_type": "code",
   "execution_count": 61,
   "source": [
    "class Dropout_MNIST_Classifier(nn.Module):\r\n",
    "    def __init__(self):\r\n",
    "        super().__init__()\r\n",
    "        self.sq = nn.Sequential(\r\n",
    "            nn.Linear(784, 516),\r\n",
    "            nn.ReLU(),\r\n",
    "            nn.Dropout(p=drop_prob),\r\n",
    "            nn.Linear(516, 516),\r\n",
    "            nn.ReLU(),\r\n",
    "            nn.Dropout(p=drop_prob),\r\n",
    "            nn.Linear(516, 516),\r\n",
    "            nn.ReLU(),\r\n",
    "            nn.Dropout(p=drop_prob),\r\n",
    "            nn.Linear(516, 516),\r\n",
    "            nn.ReLU(),\r\n",
    "            nn.Dropout(p=drop_prob),\r\n",
    "            nn.Linear(516, 10)\r\n",
    "        )\r\n",
    "        self.weightInitializer()\r\n",
    "\r\n",
    "    def weightInitializer(self):\r\n",
    "        for index, layer in enumerate(self.sq):\r\n",
    "            if index != 1 and index != 2 and index != 4 and index != 5 and index != 7 and index != 8 and index != 10 and index != 11:\r\n",
    "                nn.init.xavier_uniform_(layer.weight)\r\n",
    "\r\n",
    "    def forward(self, x):\r\n",
    "        return self.sq(x)"
   ],
   "outputs": [],
   "metadata": {}
  },
  {
   "cell_type": "code",
   "execution_count": 62,
   "source": [
    "model = Dropout_MNIST_Classifier().to(device)"
   ],
   "outputs": [],
   "metadata": {}
  },
  {
   "cell_type": "code",
   "execution_count": 63,
   "source": [
    "optimizer = optim.Adam(model.parameters(), lr=learning_rate)"
   ],
   "outputs": [],
   "metadata": {}
  },
  {
   "cell_type": "code",
   "execution_count": 64,
   "source": [
    "total_batch = len(data_loader)\r\n",
    "\r\n",
    "for epoch in range(training_epochs):\r\n",
    "\r\n",
    "    avg_cost = 0\r\n",
    "\r\n",
    "    for X, Y in data_loader:\r\n",
    "\r\n",
    "        X = X.view(-1, 28 * 28).to(device)\r\n",
    "        Y = Y.to(device)\r\n",
    "\r\n",
    "        #prediction\r\n",
    "        pred = model(X)\r\n",
    "\r\n",
    "        #cost\r\n",
    "        cost = F.cross_entropy(pred, Y)\r\n",
    "\r\n",
    "        #Reduce the cost\r\n",
    "        optimizer.zero_grad()\r\n",
    "        cost.backward()\r\n",
    "        optimizer.step()\r\n",
    "\r\n",
    "        avg_cost += cost\r\n",
    "\r\n",
    "    avg_cost = avg_cost / total_batch\r\n",
    "\r\n",
    "    print('Epoch: {:d} / 15, Cost: {:.6f}'.format(epoch + 1, avg_cost.item()))"
   ],
   "outputs": [
    {
     "output_type": "stream",
     "name": "stdout",
     "text": [
      "Epoch: 1 / 15, Cost: 0.309588\n",
      "Epoch: 2 / 15, Cost: 0.142839\n",
      "Epoch: 3 / 15, Cost: 0.112396\n",
      "Epoch: 4 / 15, Cost: 0.092985\n",
      "Epoch: 5 / 15, Cost: 0.082222\n",
      "Epoch: 6 / 15, Cost: 0.075470\n",
      "Epoch: 7 / 15, Cost: 0.065344\n",
      "Epoch: 8 / 15, Cost: 0.065210\n",
      "Epoch: 9 / 15, Cost: 0.057394\n",
      "Epoch: 10 / 15, Cost: 0.051965\n",
      "Epoch: 11 / 15, Cost: 0.053811\n",
      "Epoch: 12 / 15, Cost: 0.049630\n",
      "Epoch: 13 / 15, Cost: 0.047635\n",
      "Epoch: 14 / 15, Cost: 0.043034\n",
      "Epoch: 15 / 15, Cost: 0.045472\n"
     ]
    }
   ],
   "metadata": {}
  },
  {
   "cell_type": "markdown",
   "source": [
    "### Take a moment!\r\n",
    "\r\n",
    "```model.eval()``` should be exist at the first line of inference code to disable the dropout => dropout = False"
   ],
   "metadata": {}
  },
  {
   "cell_type": "code",
   "execution_count": 72,
   "source": [
    "#Prediction and accuracy check\r\n",
    "\r\n",
    "with torch.no_grad():\r\n",
    "    model.eval()\r\n",
    "\r\n",
    "    X = mnist_test.data.view(-1, 28 * 28).float().to(device)\r\n",
    "    Y = mnist_test.targets.to(device)\r\n",
    "\r\n",
    "    #prediction\r\n",
    "    prediction = torch.argmax(model(X), 1)\r\n",
    "    correct_prediction = (prediction == Y)\r\n",
    "    accuracy = correct_prediction.float().mean()\r\n",
    "\r\n",
    "    #check samples and prediction\r\n",
    "    r = random.randint(0, len(mnist_test) - 1)\r\n",
    "    X_single_prediction = X[r]\r\n",
    "    Y_single_prediction = Y[r]\r\n",
    "\r\n",
    "    print('Accuracy: {:.9f}'.format(accuracy))\r\n",
    "    print('Label: {}, Prediction: {}'.format(Y_single_prediction, torch.argmax(model(X_single_prediction))))"
   ],
   "outputs": [
    {
     "output_type": "stream",
     "name": "stdout",
     "text": [
      "Accuracy: 0.981099963\n",
      "Label: 0, Prediction: 0\n"
     ]
    }
   ],
   "metadata": {}
  },
  {
   "cell_type": "code",
   "execution_count": null,
   "source": [],
   "outputs": [],
   "metadata": {}
  }
 ],
 "metadata": {
  "orig_nbformat": 4,
  "language_info": {
   "name": "python",
   "version": "3.8.8",
   "mimetype": "text/x-python",
   "codemirror_mode": {
    "name": "ipython",
    "version": 3
   },
   "pygments_lexer": "ipython3",
   "nbconvert_exporter": "python",
   "file_extension": ".py"
  },
  "kernelspec": {
   "name": "python3",
   "display_name": "Python 3.8.8 64-bit ('buddhalight': conda)"
  },
  "interpreter": {
   "hash": "38ed4d61829b01de31b0fe0651719916120d9f7e023a62cbbfea93b7d24a50a0"
  }
 },
 "nbformat": 4,
 "nbformat_minor": 2
}