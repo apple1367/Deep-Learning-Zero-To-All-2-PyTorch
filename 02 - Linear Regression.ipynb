{
 "metadata": {
  "language_info": {
   "codemirror_mode": {
    "name": "ipython",
    "version": 3
   },
   "file_extension": ".py",
   "mimetype": "text/x-python",
   "name": "python",
   "nbconvert_exporter": "python",
   "pygments_lexer": "ipython3",
   "version": "3.8.8"
  },
  "orig_nbformat": 4,
  "kernelspec": {
   "name": "python3",
   "display_name": "Python 3.8.8 64-bit ('dl': conda)"
  },
  "interpreter": {
   "hash": "cf9fc2dbd5635ad5c962111ac36bfe3c6f06dcc7ef17370686f0520d53cd60ca"
  }
 },
 "nbformat": 4,
 "nbformat_minor": 2,
 "cells": [
  {
   "source": [
    "# Linear Regression"
   ],
   "cell_type": "markdown",
   "metadata": {}
  },
  {
   "source": [
    "## Theoretical Overview"
   ],
   "cell_type": "markdown",
   "metadata": {}
  },
  {
   "source": [
    "$H(x) = Wx + b$"
   ],
   "cell_type": "markdown",
   "metadata": {}
  },
  {
   "source": [
    " $$ cost(W, b) = \\\\frac{1}{m} \\\\sum^m_{i=1} \\\\left( H(x^{(i)}) - y^{(i)} \\\\right)^2 $$"
   ],
   "cell_type": "markdown",
   "metadata": {}
  }
 ]
}