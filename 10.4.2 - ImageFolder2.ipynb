{
 "cells": [
  {
   "cell_type": "markdown",
   "source": [
    "# Lab 10.4.2: Image Folder 2\r\n",
    "\r\n",
    "Edited By Steve Ive\r\n",
    "\r\n",
    "Here, with the custom dataset that we defined, we will create the model to classify our label(here, cat and dog) with our custom CNN.\r\n",
    "\r\n",
    "Reference from\r\n",
    "\r\n",
    "https://github.com/deeplearningzerotoall/PyTorch/blob/master/lab-10_4_2_ImageFolder_2.ipynb"
   ],
   "metadata": {}
  },
  {
   "cell_type": "markdown",
   "source": [
    "## Imports"
   ],
   "metadata": {}
  },
  {
   "cell_type": "code",
   "execution_count": 74,
   "source": [
    "import torch\r\n",
    "import torch.nn as nn\r\n",
    "import torch.nn.functional as F\r\n",
    "import torch.optim as optim\r\n",
    "import torchvision\r\n",
    "import torchvision.transforms as transforms"
   ],
   "outputs": [],
   "metadata": {}
  },
  {
   "cell_type": "code",
   "execution_count": 75,
   "source": [
    "device = 'cuda' if torch.cuda.is_available() else 'cpu'\r\n",
    "\r\n",
    "torch.manual_seed(1)\r\n",
    "if device == 'cuda':\r\n",
    "    torch.cuda.manual_seed_all(1)"
   ],
   "outputs": [],
   "metadata": {}
  },
  {
   "cell_type": "markdown",
   "source": [
    "## Define torchvision.transform property(To.Tensor()) to train"
   ],
   "metadata": {}
  },
  {
   "cell_type": "code",
   "execution_count": 76,
   "source": [
    "trans = transforms.Compose([\r\n",
    "    transforms.ToTensor()\r\n",
    "])\r\n",
    "\r\n",
    "train_data = torchvision.datasets.ImageFolder(root = 'catsanddogs/train_data/', transform=trans)"
   ],
   "outputs": [],
   "metadata": {}
  },
  {
   "cell_type": "markdown",
   "source": [
    "## Set Hyperparameter"
   ],
   "metadata": {}
  },
  {
   "cell_type": "code",
   "execution_count": 77,
   "source": [
    "batch_size = 8\r\n",
    "training_epochs = 100\r\n",
    "learning_rate = 0.01"
   ],
   "outputs": [],
   "metadata": {}
  },
  {
   "cell_type": "markdown",
   "source": [
    "## Define Dataloader"
   ],
   "metadata": {}
  },
  {
   "cell_type": "code",
   "execution_count": 78,
   "source": [
    "data_loader = torch.utils.data.DataLoader(dataset = train_data, shuffle = True, batch_size = batch_size, drop_last = False, num_workers = 2)"
   ],
   "outputs": [],
   "metadata": {}
  },
  {
   "cell_type": "markdown",
   "source": [
    "## Define Model\r\n",
    "## Only Adding 1 more Fully connected Layer makes accuaracy 15% up!!!!!!!\r\n",
    "\r\n",
    "50% -> 65%"
   ],
   "metadata": {}
  },
  {
   "cell_type": "code",
   "execution_count": 79,
   "source": [
    "class CNN(nn.Module):\r\n",
    "    def __init__(self):\r\n",
    "        super().__init__()\r\n",
    "        self.layer1 = nn.Sequential(\r\n",
    "            nn.Conv2d(3, 6, 5),\r\n",
    "            nn.BatchNorm2d(6),\r\n",
    "            nn.ReLU(),\r\n",
    "            nn.MaxPool2d(2),\r\n",
    "        )\r\n",
    "        self.layer2 = nn.Sequential(\r\n",
    "            nn.Conv2d(6, 16, 5),\r\n",
    "            nn.BatchNorm2d(16),\r\n",
    "            nn.ReLU(),\r\n",
    "            nn.MaxPool2d(2),\r\n",
    "        )\r\n",
    "        self.layer3 = nn.Sequential(\r\n",
    "            nn.Linear(16 * 13 * 29, 120),\r\n",
    "            nn.ReLU(),\r\n",
    "            nn.Linear(120, 64),\r\n",
    "            nn.ReLU(),\r\n",
    "            nn.Linear(64, 2)\r\n",
    "        )\r\n",
    "\r\n",
    "    def forward(self, x):\r\n",
    "        out = self.layer1(x)\r\n",
    "        out = self.layer2(out)\r\n",
    "        out = out.view(out.shape[0], -1)\r\n",
    "        out = self.layer3(out)\r\n",
    "        return out"
   ],
   "outputs": [],
   "metadata": {}
  },
  {
   "cell_type": "code",
   "execution_count": 80,
   "source": [
    "#testing\r\n",
    "net = CNN().to(device)\r\n",
    "test_input = (torch.Tensor(3, 3, 64, 128)).to(device)\r\n",
    "test_out = net(test_input)"
   ],
   "outputs": [],
   "metadata": {}
  },
  {
   "cell_type": "code",
   "execution_count": 81,
   "source": [
    "optimizer = optim.Adam(net.parameters(), lr=learning_rate)"
   ],
   "outputs": [],
   "metadata": {}
  },
  {
   "cell_type": "markdown",
   "source": [
    "## Train"
   ],
   "metadata": {}
  },
  {
   "cell_type": "code",
   "execution_count": 82,
   "source": [
    "total_batch = len(data_loader)\r\n",
    "\r\n",
    "for epoch in range(training_epochs):\r\n",
    "\r\n",
    "    avg_cost = 0\r\n",
    "\r\n",
    "    for X, Y in data_loader:\r\n",
    "\r\n",
    "        X = X.to(device)\r\n",
    "        Y = Y.to(device)\r\n",
    "\r\n",
    "        #prediction\r\n",
    "        pred = net(X)\r\n",
    "\r\n",
    "        #cost\r\n",
    "        cost = F.cross_entropy(pred, Y)\r\n",
    "\r\n",
    "        #Reduce the cost\r\n",
    "        optimizer.zero_grad()\r\n",
    "        cost.backward()\r\n",
    "        optimizer.step()\r\n",
    "\r\n",
    "        avg_cost += cost\r\n",
    "    \r\n",
    "    avg_cost = avg_cost / total_batch\r\n",
    "\r\n",
    "    print('Epoch {} / {}, Cost: {:.6f}'.format(epoch+1, training_epochs, avg_cost))"
   ],
   "outputs": [
    {
     "output_type": "stream",
     "name": "stdout",
     "text": [
      "Epoch 1 / 100, Cost: 2.372007\n",
      "Epoch 2 / 100, Cost: 0.725470\n",
      "Epoch 3 / 100, Cost: 0.675219\n",
      "Epoch 4 / 100, Cost: 0.677012\n",
      "Epoch 5 / 100, Cost: 0.645114\n",
      "Epoch 6 / 100, Cost: 0.635742\n",
      "Epoch 7 / 100, Cost: 0.622053\n",
      "Epoch 8 / 100, Cost: 0.615611\n",
      "Epoch 9 / 100, Cost: 0.557917\n",
      "Epoch 10 / 100, Cost: 0.605357\n",
      "Epoch 11 / 100, Cost: 0.529028\n",
      "Epoch 12 / 100, Cost: 0.557794\n",
      "Epoch 13 / 100, Cost: 0.470702\n",
      "Epoch 14 / 100, Cost: 0.524688\n",
      "Epoch 15 / 100, Cost: 0.565508\n",
      "Epoch 16 / 100, Cost: 0.477859\n",
      "Epoch 17 / 100, Cost: 0.399513\n",
      "Epoch 18 / 100, Cost: 0.454787\n",
      "Epoch 19 / 100, Cost: 0.426855\n",
      "Epoch 20 / 100, Cost: 0.361430\n",
      "Epoch 21 / 100, Cost: 0.316375\n",
      "Epoch 22 / 100, Cost: 0.412758\n",
      "Epoch 23 / 100, Cost: 0.357465\n",
      "Epoch 24 / 100, Cost: 0.370292\n",
      "Epoch 25 / 100, Cost: 0.263527\n",
      "Epoch 26 / 100, Cost: 0.257853\n",
      "Epoch 27 / 100, Cost: 0.182289\n",
      "Epoch 28 / 100, Cost: 0.216509\n",
      "Epoch 29 / 100, Cost: 0.237303\n",
      "Epoch 30 / 100, Cost: 0.233547\n",
      "Epoch 31 / 100, Cost: 0.300460\n",
      "Epoch 32 / 100, Cost: 0.167145\n",
      "Epoch 33 / 100, Cost: 0.151696\n",
      "Epoch 34 / 100, Cost: 0.138581\n",
      "Epoch 35 / 100, Cost: 0.192900\n",
      "Epoch 36 / 100, Cost: 0.210248\n",
      "Epoch 37 / 100, Cost: 0.099723\n",
      "Epoch 38 / 100, Cost: 0.088780\n",
      "Epoch 39 / 100, Cost: 0.112993\n",
      "Epoch 40 / 100, Cost: 0.179528\n",
      "Epoch 41 / 100, Cost: 0.125220\n",
      "Epoch 42 / 100, Cost: 0.077691\n",
      "Epoch 43 / 100, Cost: 0.084658\n",
      "Epoch 44 / 100, Cost: 0.064562\n",
      "Epoch 45 / 100, Cost: 0.065298\n",
      "Epoch 46 / 100, Cost: 0.034124\n",
      "Epoch 47 / 100, Cost: 0.100494\n",
      "Epoch 48 / 100, Cost: 0.117106\n",
      "Epoch 49 / 100, Cost: 0.295237\n",
      "Epoch 50 / 100, Cost: 0.069935\n",
      "Epoch 51 / 100, Cost: 0.042277\n",
      "Epoch 52 / 100, Cost: 0.046221\n",
      "Epoch 53 / 100, Cost: 0.069382\n",
      "Epoch 54 / 100, Cost: 0.025757\n",
      "Epoch 55 / 100, Cost: 0.021963\n",
      "Epoch 56 / 100, Cost: 0.137718\n",
      "Epoch 57 / 100, Cost: 0.073334\n",
      "Epoch 58 / 100, Cost: 0.022832\n",
      "Epoch 59 / 100, Cost: 0.014641\n",
      "Epoch 60 / 100, Cost: 0.092835\n",
      "Epoch 61 / 100, Cost: 0.402841\n",
      "Epoch 62 / 100, Cost: 0.041290\n",
      "Epoch 63 / 100, Cost: 0.081675\n",
      "Epoch 64 / 100, Cost: 0.131654\n",
      "Epoch 65 / 100, Cost: 0.067226\n",
      "Epoch 66 / 100, Cost: 0.044631\n",
      "Epoch 67 / 100, Cost: 0.098849\n",
      "Epoch 68 / 100, Cost: 0.077069\n",
      "Epoch 69 / 100, Cost: 0.062894\n",
      "Epoch 70 / 100, Cost: 0.011615\n",
      "Epoch 71 / 100, Cost: 0.002247\n",
      "Epoch 72 / 100, Cost: 0.005159\n",
      "Epoch 73 / 100, Cost: 0.004192\n",
      "Epoch 74 / 100, Cost: 0.000912\n",
      "Epoch 75 / 100, Cost: 0.000873\n",
      "Epoch 76 / 100, Cost: 0.000507\n",
      "Epoch 77 / 100, Cost: 0.000335\n",
      "Epoch 78 / 100, Cost: 0.000669\n",
      "Epoch 79 / 100, Cost: 0.002179\n",
      "Epoch 80 / 100, Cost: 0.010161\n",
      "Epoch 81 / 100, Cost: 0.085492\n",
      "Epoch 82 / 100, Cost: 0.060463\n",
      "Epoch 83 / 100, Cost: 0.028673\n",
      "Epoch 84 / 100, Cost: 0.083615\n",
      "Epoch 85 / 100, Cost: 0.080030\n",
      "Epoch 86 / 100, Cost: 0.061036\n",
      "Epoch 87 / 100, Cost: 0.146444\n",
      "Epoch 88 / 100, Cost: 0.094049\n",
      "Epoch 89 / 100, Cost: 0.138851\n",
      "Epoch 90 / 100, Cost: 0.249103\n",
      "Epoch 91 / 100, Cost: 0.090855\n",
      "Epoch 92 / 100, Cost: 0.050005\n",
      "Epoch 93 / 100, Cost: 0.023777\n",
      "Epoch 94 / 100, Cost: 0.013617\n",
      "Epoch 95 / 100, Cost: 0.023078\n",
      "Epoch 96 / 100, Cost: 0.009194\n",
      "Epoch 97 / 100, Cost: 0.006714\n",
      "Epoch 98 / 100, Cost: 0.004449\n",
      "Epoch 99 / 100, Cost: 0.000315\n",
      "Epoch 100 / 100, Cost: 0.000003\n"
     ]
    }
   ],
   "metadata": {}
  },
  {
   "cell_type": "markdown",
   "source": [
    "## Weight Save"
   ],
   "metadata": {}
  },
  {
   "cell_type": "code",
   "execution_count": 83,
   "source": [
    "torch.save(net.state_dict(), \"./models/catsanddogs_cnn.pth\")"
   ],
   "outputs": [],
   "metadata": {}
  },
  {
   "cell_type": "code",
   "execution_count": 84,
   "source": [
    "new_net = CNN().to(device)"
   ],
   "outputs": [],
   "metadata": {}
  },
  {
   "cell_type": "markdown",
   "source": [
    "## Weight load"
   ],
   "metadata": {}
  },
  {
   "cell_type": "code",
   "execution_count": 85,
   "source": [
    "new_net.load_state_dict(torch.load('./models/catsanddogs_cnn.pth'))"
   ],
   "outputs": [
    {
     "output_type": "execute_result",
     "data": {
      "text/plain": [
       "<All keys matched successfully>"
      ]
     },
     "metadata": {},
     "execution_count": 85
    }
   ],
   "metadata": {}
  },
  {
   "cell_type": "code",
   "execution_count": 86,
   "source": [
    "print(net.layer1[0])\r\n",
    "print(new_net.layer1[0])\r\n",
    "\r\n",
    "print(net.layer1[0].weight[0][0][0])\r\n",
    "print(new_net.layer1[0].weight[0][0][0])\r\n",
    "net.layer1[0].weight[0] == new_net.layer1[0].weight[0]"
   ],
   "outputs": [
    {
     "output_type": "stream",
     "name": "stdout",
     "text": [
      "Conv2d(3, 6, kernel_size=(5, 5), stride=(1, 1))\n",
      "Conv2d(3, 6, kernel_size=(5, 5), stride=(1, 1))\n",
      "tensor([ 0.3255,  0.2246,  0.1672,  0.0831, -0.3185], device='cuda:0',\n",
      "       grad_fn=<SelectBackward>)\n",
      "tensor([ 0.3255,  0.2246,  0.1672,  0.0831, -0.3185], device='cuda:0',\n",
      "       grad_fn=<SelectBackward>)\n"
     ]
    },
    {
     "output_type": "execute_result",
     "data": {
      "text/plain": [
       "tensor([[[True, True, True, True, True],\n",
       "         [True, True, True, True, True],\n",
       "         [True, True, True, True, True],\n",
       "         [True, True, True, True, True],\n",
       "         [True, True, True, True, True]],\n",
       "\n",
       "        [[True, True, True, True, True],\n",
       "         [True, True, True, True, True],\n",
       "         [True, True, True, True, True],\n",
       "         [True, True, True, True, True],\n",
       "         [True, True, True, True, True]],\n",
       "\n",
       "        [[True, True, True, True, True],\n",
       "         [True, True, True, True, True],\n",
       "         [True, True, True, True, True],\n",
       "         [True, True, True, True, True],\n",
       "         [True, True, True, True, True]]], device='cuda:0')"
      ]
     },
     "metadata": {},
     "execution_count": 86
    }
   ],
   "metadata": {}
  },
  {
   "cell_type": "markdown",
   "source": [
    "## Define torchvision.transforms property (To.Tensor and Resize) to Test"
   ],
   "metadata": {}
  },
  {
   "cell_type": "code",
   "execution_count": 87,
   "source": [
    "trans = torchvision.transforms.Compose([\r\n",
    "    transforms.Resize((64, 128)),\r\n",
    "    transforms.ToTensor()\r\n",
    "])\r\n",
    "test_data = torchvision.datasets.ImageFolder(root = './catsanddogs/test_data', transform = trans)"
   ],
   "outputs": [],
   "metadata": {}
  },
  {
   "cell_type": "markdown",
   "source": [
    "## Define dataloader"
   ],
   "metadata": {}
  },
  {
   "cell_type": "code",
   "execution_count": 88,
   "source": [
    "test_set = torch.utils.data.DataLoader(dataset = test_data, batch_size = len(test_data))"
   ],
   "outputs": [],
   "metadata": {}
  },
  {
   "cell_type": "markdown",
   "source": [
    "## Check accuracy"
   ],
   "metadata": {}
  },
  {
   "cell_type": "code",
   "execution_count": 89,
   "source": [
    "with torch.no_grad():\r\n",
    "    for X, Y in test_set:\r\n",
    "\r\n",
    "        X = X.to(device)\r\n",
    "        Y = Y.to(device)\r\n",
    "\r\n",
    "        prediction = new_net(X)\r\n",
    "\r\n",
    "        correct_prediction = torch.argmax(prediction, 1) == Y\r\n",
    "        accuracy = correct_prediction.float().mean()\r\n",
    "\r\n",
    "    print('Accuracy: {:.6f}'.format(accuracy.item()))"
   ],
   "outputs": [
    {
     "output_type": "stream",
     "name": "stdout",
     "text": [
      "Accuracy: 0.650000\n"
     ]
    }
   ],
   "metadata": {}
  }
 ],
 "metadata": {
  "orig_nbformat": 4,
  "language_info": {
   "name": "python",
   "version": "3.8.8",
   "mimetype": "text/x-python",
   "codemirror_mode": {
    "name": "ipython",
    "version": 3
   },
   "pygments_lexer": "ipython3",
   "nbconvert_exporter": "python",
   "file_extension": ".py"
  },
  "kernelspec": {
   "name": "python3",
   "display_name": "Python 3.8.8 64-bit ('buddhalight': conda)"
  },
  "interpreter": {
   "hash": "38ed4d61829b01de31b0fe0651719916120d9f7e023a62cbbfea93b7d24a50a0"
  }
 },
 "nbformat": 4,
 "nbformat_minor": 2
}