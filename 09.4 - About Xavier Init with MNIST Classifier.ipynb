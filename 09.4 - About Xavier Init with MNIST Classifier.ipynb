{
 "cells": [
  {
   "cell_type": "markdown",
   "source": [
    "# Lab 9.4: About Xavier init with MNIST Classifier\r\n",
    "\r\n",
    "Edited By Steve Ive\r\n",
    "\r\n",
    "Reference from\r\n",
    "\r\n",
    "https://github.com/deeplearningzerotoall/PyTorch/blob/master/lab-09_3_mnist_nn_xavier.ipynb"
   ],
   "metadata": {}
  },
  {
   "cell_type": "markdown",
   "source": [
    "## Imports"
   ],
   "metadata": {}
  },
  {
   "cell_type": "code",
   "execution_count": 2,
   "source": [
    "import torch\r\n",
    "import torch.nn as nn\r\n",
    "import torch.nn.functional as F\r\n",
    "import torch.optim as optim\r\n",
    "import torchvision.datasets as datasets\r\n",
    "import torchvision.transforms as transforms\r\n",
    "import random"
   ],
   "outputs": [],
   "metadata": {}
  },
  {
   "cell_type": "code",
   "execution_count": 3,
   "source": [
    "device = 'cuda' if torch.cuda.is_available() else 'cpu'\r\n",
    "\r\n",
    "random.seed(1)\r\n",
    "torch.manual_seed(1)\r\n",
    "\r\n",
    "if device == 'cuda':\r\n",
    "    torch.cuda.manual_seed_all(1)"
   ],
   "outputs": [],
   "metadata": {}
  },
  {
   "cell_type": "markdown",
   "source": [
    "## Load MNIST Data"
   ],
   "metadata": {}
  },
  {
   "cell_type": "code",
   "execution_count": null,
   "source": [
    "mnist_train = datasets.MNIST(root = 'MNIST_data/',\r\n",
    "                             download=True,\r\n",
    "                             transform=transforms.ToTensor(),\r\n",
    "                             train=True)\r\n",
    "mnist_test = datasets.MNIST(root = 'MNIST_data/',\r\n",
    "                            download=True,\r\n",
    "                            transform = transforms.ToTensor(),\r\n",
    "                            train = False)"
   ],
   "outputs": [
    {
     "output_type": "stream",
     "name": "stderr",
     "text": [
      "C:\\Users\\buddhalight\\envs\\buddhalight\\lib\\site-packages\\torchvision\\datasets\\mnist.py:498: UserWarning: The given NumPy array is not writeable, and PyTorch does not support non-writeable tensors. This means you can write to the underlying (supposedly non-writeable) NumPy array using the tensor. You may want to copy the array to protect its data or make it writeable before converting it to a tensor. This type of warning will be suppressed for the rest of this program. (Triggered internally at  ..\\torch\\csrc\\utils\\tensor_numpy.cpp:180.)\n",
      "  return torch.from_numpy(parsed.astype(m[2], copy=False)).view(*s)\n"
     ]
    }
   ],
   "metadata": {}
  },
  {
   "cell_type": "markdown",
   "source": [
    "## Set Hyperparameters"
   ],
   "metadata": {}
  },
  {
   "cell_type": "code",
   "execution_count": 5,
   "source": [
    "training_epochs = 15\r\n",
    "learning_rate = 0.001\r\n",
    "batch_size = 100"
   ],
   "outputs": [],
   "metadata": {}
  },
  {
   "cell_type": "code",
   "execution_count": 6,
   "source": [
    "data_loader = torch.utils.data.DataLoader(dataset = mnist_train, shuffle= True, drop_last = True, batch_size = batch_size)"
   ],
   "outputs": [],
   "metadata": {}
  },
  {
   "cell_type": "markdown",
   "source": [
    "## Define Model"
   ],
   "metadata": {}
  },
  {
   "cell_type": "code",
   "execution_count": 16,
   "source": [
    "class Xavier_MNIST_Classifier(nn.Module):\r\n",
    "    def __init__(self):\r\n",
    "        super().__init__()\r\n",
    "        self.sq = nn.Sequential(\r\n",
    "            nn.Linear(784, 256),\r\n",
    "            nn.ReLU(),\r\n",
    "            nn.Linear(256, 256),\r\n",
    "            nn.ReLU(),\r\n",
    "            nn.Linear(256, 10),\r\n",
    "        )\r\n",
    "        self.weightInitializer()\r\n",
    "\r\n",
    "    def forward(self, x):\r\n",
    "        return self.sq(x)\r\n",
    "\r\n",
    "    def weightInitializer(self):\r\n",
    "        for index, layer in enumerate(self.sq):\r\n",
    "            if index != 1 and index != 3:\r\n",
    "                nn.init.xavier_uniform_(layer.weight)"
   ],
   "outputs": [],
   "metadata": {}
  },
  {
   "cell_type": "code",
   "execution_count": 17,
   "source": [
    "model = Xavier_MNIST_Classifier().to(device)"
   ],
   "outputs": [],
   "metadata": {}
  },
  {
   "cell_type": "code",
   "execution_count": 18,
   "source": [
    "optimizer = optim.Adam(model.parameters(), lr=learning_rate)"
   ],
   "outputs": [],
   "metadata": {}
  },
  {
   "cell_type": "markdown",
   "source": [
    "## Train Model"
   ],
   "metadata": {}
  },
  {
   "cell_type": "code",
   "execution_count": 19,
   "source": [
    "total_batch = len(data_loader)\r\n",
    "\r\n",
    "for epoch in range(training_epochs):\r\n",
    "\r\n",
    "    avg_cost = 0\r\n",
    "    \r\n",
    "    for X, Y in data_loader:\r\n",
    "\r\n",
    "        X = X.view(-1, 28 * 28).to(device)\r\n",
    "        Y = Y.to(device)\r\n",
    "\r\n",
    "        #prediction\r\n",
    "        pred = model(X)\r\n",
    "\r\n",
    "        #cost\r\n",
    "        cost = F.cross_entropy(pred, Y).to(device)\r\n",
    "\r\n",
    "        #Reduce cost\r\n",
    "        optimizer.zero_grad()\r\n",
    "        cost.backward()\r\n",
    "        optimizer.step()\r\n",
    "\r\n",
    "        avg_cost += cost\r\n",
    "    \r\n",
    "    avg_cost = avg_cost / total_batch\r\n",
    "\r\n",
    "    print('Epoch: {:d} / 15, cost: {:.6f}'.format(epoch, cost.item()))"
   ],
   "outputs": [
    {
     "output_type": "stream",
     "name": "stdout",
     "text": [
      "Epoch: 0 / 15, cost: 0.141852\n",
      "Epoch: 1 / 15, cost: 0.089611\n",
      "Epoch: 2 / 15, cost: 0.038303\n",
      "Epoch: 3 / 15, cost: 0.173185\n",
      "Epoch: 4 / 15, cost: 0.012622\n",
      "Epoch: 5 / 15, cost: 0.061407\n",
      "Epoch: 6 / 15, cost: 0.070664\n",
      "Epoch: 7 / 15, cost: 0.010458\n",
      "Epoch: 8 / 15, cost: 0.004857\n",
      "Epoch: 9 / 15, cost: 0.007333\n",
      "Epoch: 10 / 15, cost: 0.002014\n",
      "Epoch: 11 / 15, cost: 0.004299\n",
      "Epoch: 12 / 15, cost: 0.051862\n",
      "Epoch: 13 / 15, cost: 0.053505\n",
      "Epoch: 14 / 15, cost: 0.020849\n"
     ]
    }
   ],
   "metadata": {}
  },
  {
   "cell_type": "code",
   "execution_count": 20,
   "source": [
    "#Accuracy test and check prediction\r\n",
    "\r\n",
    "with torch.no_grad():\r\n",
    "\r\n",
    "    X_test = mnist_test.data.view(-1, 28 * 28).float().to(device)\r\n",
    "    Y_test = mnist_test.targets.to(device)\r\n",
    "\r\n",
    "    r = random.randint(0, len(mnist_test) - 1)\r\n",
    "\r\n",
    "    pred = model(X_test)\r\n",
    "    correct_prediction = torch.argmax(pred, 1)\r\n",
    "    accuracy = (correct_prediction == Y_test).float().mean()\r\n",
    "\r\n",
    "    print('Accuracy: ', accuracy.item())\r\n",
    "\r\n",
    "    X_single_prediction = X_test[r]\r\n",
    "    Y_single_prediction = Y_test[r]\r\n",
    "\r\n",
    "    print('Label: ', Y_single_prediction.item())\r\n",
    "    print('Prediction: ', torch.argmax(model(X_single_prediction)).item())\r\n",
    "    "
   ],
   "outputs": [
    {
     "output_type": "stream",
     "name": "stdout",
     "text": [
      "Accuracy:  0.9787999987602234\n",
      "Label:  5\n",
      "Prediction:  5\n"
     ]
    }
   ],
   "metadata": {}
  }
 ],
 "metadata": {
  "orig_nbformat": 4,
  "language_info": {
   "name": "python",
   "version": "3.8.8",
   "mimetype": "text/x-python",
   "codemirror_mode": {
    "name": "ipython",
    "version": 3
   },
   "pygments_lexer": "ipython3",
   "nbconvert_exporter": "python",
   "file_extension": ".py"
  },
  "kernelspec": {
   "name": "python3",
   "display_name": "Python 3.8.8 64-bit ('buddhalight': conda)"
  },
  "interpreter": {
   "hash": "38ed4d61829b01de31b0fe0651719916120d9f7e023a62cbbfea93b7d24a50a0"
  }
 },
 "nbformat": 4,
 "nbformat_minor": 2
}