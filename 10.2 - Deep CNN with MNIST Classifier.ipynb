{
 "cells": [
  {
   "cell_type": "markdown",
   "source": [
    "# Lab 10.2: Deep Cnn with MNIST Classifier\r\n",
    "\r\n",
    "Here we are going to create the Deep CNN to classify the MNIST Digits.\r\n",
    "\r\n",
    "Edited By Steve Ive\r\n",
    "\r\n",
    "Reference from"
   ],
   "metadata": {}
  },
  {
   "cell_type": "markdown",
   "source": [
    "## Imports"
   ],
   "metadata": {}
  },
  {
   "cell_type": "code",
   "execution_count": 1,
   "source": [
    "import torch\r\n",
    "import torch.nn as nn\r\n",
    "import torch.nn.functional as F\r\n",
    "import torch.optim as optim\r\n",
    "import torchvision.datasets as datasets\r\n",
    "import torchvision.transforms as transforms\r\n",
    "import torch.nn.init as init"
   ],
   "outputs": [],
   "metadata": {}
  },
  {
   "cell_type": "code",
   "execution_count": 2,
   "source": [
    "device = 'cuda' if torch.cuda.is_available() else 'cpu'\r\n",
    "\r\n",
    "torch.manual_seed(1)\r\n",
    "\r\n",
    "if device == 'cuda':\r\n",
    "    torch.cuda.manual_seed_all(1)"
   ],
   "outputs": [],
   "metadata": {}
  },
  {
   "cell_type": "markdown",
   "source": [
    "## Set Hyperparameters"
   ],
   "metadata": {}
  },
  {
   "cell_type": "code",
   "execution_count": 3,
   "source": [
    "learning_rate = 0.001\r\n",
    "training_epochs = 20\r\n",
    "batch_size = 100"
   ],
   "outputs": [],
   "metadata": {}
  },
  {
   "cell_type": "markdown",
   "source": [
    "## Load MNIST Data"
   ],
   "metadata": {}
  },
  {
   "cell_type": "code",
   "execution_count": 4,
   "source": [
    "mnist_train = datasets.MNIST(root = 'MNIST_data/',\r\n",
    "                             download = True,\r\n",
    "                             train = True,\r\n",
    "                             transform = transforms.ToTensor())\r\n",
    "mnist_test = datasets.MNIST(root = 'MNIST_data/',\r\n",
    "                            download = True,\r\n",
    "                            train = False,\r\n",
    "                            transform = transforms.ToTensor())"
   ],
   "outputs": [
    {
     "output_type": "stream",
     "name": "stderr",
     "text": [
      "C:\\Users\\buddhalight\\envs\\buddhalight\\lib\\site-packages\\torchvision\\datasets\\mnist.py:498: UserWarning: The given NumPy array is not writeable, and PyTorch does not support non-writeable tensors. This means you can write to the underlying (supposedly non-writeable) NumPy array using the tensor. You may want to copy the array to protect its data or make it writeable before converting it to a tensor. This type of warning will be suppressed for the rest of this program. (Triggered internally at  ..\\torch\\csrc\\utils\\tensor_numpy.cpp:180.)\n",
      "  return torch.from_numpy(parsed.astype(m[2], copy=False)).view(*s)\n"
     ]
    }
   ],
   "metadata": {}
  },
  {
   "cell_type": "code",
   "execution_count": 5,
   "source": [
    "data_loader = torch.utils.data.DataLoader(dataset = mnist_train, shuffle = True, batch_size = batch_size, drop_last = True)"
   ],
   "outputs": [],
   "metadata": {}
  },
  {
   "cell_type": "markdown",
   "source": [
    "## Model Define"
   ],
   "metadata": {}
  },
  {
   "cell_type": "code",
   "execution_count": 16,
   "source": [
    "class Deep_CNN_MNIST(nn.Module):\r\n",
    "    def __init__(self):\r\n",
    "        super().__init__()\r\n",
    "        self.keep_prob = 0.5\r\n",
    "        # Layer 1: ImageInput Shape = (?, 1, 28, 28)\r\n",
    "        # Conv   : ImageOutput Shape = (?, 32, 28, 28)\r\n",
    "        # Pool   : ImageOutput Shape = (?, 32, 14, 14)\r\n",
    "        self.layer1 = nn.Sequential(\r\n",
    "            nn.Conv2d(1, 32, kernel_size = 3, stride = 1, padding = 1),\r\n",
    "            nn.ReLU(),\r\n",
    "            nn.MaxPool2d(kernel_size = 2, stride = 2)\r\n",
    "        )\r\n",
    "        # Layer 2: ImageInput Shape = (?, 32, 14, 14)\r\n",
    "        # Conv   : ImageOutput Shape = (?, 64, 14, 14)\r\n",
    "        # Pool   : ImageOutput Shape = (?, 64, 7, 7)\r\n",
    "        self.layer2 = nn.Sequential(\r\n",
    "            nn.Conv2d(32, 64, kernel_size = 3, stride = 1, padding = 1),\r\n",
    "            nn.ReLU(),\r\n",
    "            nn.MaxPool2d(kernel_size = 2, stride = 2)\r\n",
    "        )\r\n",
    "        # Layer 3: ImageInput Shape = (?, 64, 7, 7)\r\n",
    "        # Conv   : ImageOutput Shape = (?, 128, 7, 7)\r\n",
    "        # Pool   : ImageOutput Shape = (?, 128, 4, 4)\r\n",
    "        self.layer3 = nn.Sequential(\r\n",
    "            nn.Conv2d(64, 128, kernel_size = 3, stride = 1, padding = 1),\r\n",
    "            nn.ReLU(),\r\n",
    "            nn.MaxPool2d(kernel_size = 2, stride = 2, padding = 1)\r\n",
    "        )\r\n",
    "        # Layer 4: Fully Connected 4x4x128 inputs => 625 outputs\r\n",
    "        self.fc1 = nn.Linear(4 * 4 * 128, 625)\r\n",
    "        init.xavier_uniform_(self.fc1.weight)\r\n",
    "        self.layer4 = nn.Sequential(\r\n",
    "            self.fc1,\r\n",
    "            nn.ReLU(),\r\n",
    "            nn.Dropout(p = 1 - self.keep_prob)\r\n",
    "        )\r\n",
    "        # Layer 5: Final Fully Connected 625 outputs => 10 outputs\r\n",
    "        self.layer5 = nn.Linear(625, 10)\r\n",
    "        init.xavier_uniform_(self.layer5.weight)\r\n",
    "\r\n",
    "    def forward(self, x):\r\n",
    "        out = self.layer1(x)\r\n",
    "        out = self.layer2(out)\r\n",
    "        out = self.layer3(out)\r\n",
    "        out = out.view(out.size(0), -1) # Flatten for Fully Connected\r\n",
    "        out = self.layer4(out)\r\n",
    "        out = self.layer5(out)\r\n",
    "        return out"
   ],
   "outputs": [],
   "metadata": {}
  },
  {
   "cell_type": "code",
   "execution_count": 17,
   "source": [
    "model = Deep_CNN_MNIST().to(device)"
   ],
   "outputs": [],
   "metadata": {}
  },
  {
   "cell_type": "code",
   "execution_count": 18,
   "source": [
    "optimizer = optim.Adam(model.parameters(), lr= learning_rate)"
   ],
   "outputs": [],
   "metadata": {}
  },
  {
   "cell_type": "markdown",
   "source": [
    "## Train"
   ],
   "metadata": {}
  },
  {
   "cell_type": "code",
   "execution_count": 19,
   "source": [
    "total_batch = len(data_loader)\r\n",
    "\r\n",
    "model.train() # Set Model to train mode\r\n",
    "for epoch in range(training_epochs):\r\n",
    "\r\n",
    "    avg_cost = 0\r\n",
    "\r\n",
    "    for X, Y in data_loader:\r\n",
    "\r\n",
    "        # Image is already size of (28 x 28), no reshape\r\n",
    "        # Label is not one-hot encoded\r\n",
    "\r\n",
    "        X = X.to(device)\r\n",
    "        Y = Y.to(device)\r\n",
    "\r\n",
    "        #prediction\r\n",
    "        pred = model(X)\r\n",
    "\r\n",
    "        #cost\r\n",
    "        cost = F.cross_entropy(pred, Y).to(device)\r\n",
    "\r\n",
    "        #Reduce cost\r\n",
    "        optimizer.zero_grad()\r\n",
    "        cost.backward()\r\n",
    "        optimizer.step()\r\n",
    "\r\n",
    "        avg_cost += cost\r\n",
    "\r\n",
    "    avg_cost = avg_cost / total_batch\r\n",
    "\r\n",
    "    print('Epoch: {} / 20, Cost: {:.6f}'.format(epoch + 1, avg_cost))"
   ],
   "outputs": [
    {
     "output_type": "stream",
     "name": "stdout",
     "text": [
      "Epoch: 1 / 20, Cost: 0.188810\n",
      "Epoch: 2 / 20, Cost: 0.052321\n",
      "Epoch: 3 / 20, Cost: 0.038685\n",
      "Epoch: 4 / 20, Cost: 0.029705\n",
      "Epoch: 5 / 20, Cost: 0.024148\n",
      "Epoch: 6 / 20, Cost: 0.020392\n",
      "Epoch: 7 / 20, Cost: 0.016698\n",
      "Epoch: 8 / 20, Cost: 0.013662\n",
      "Epoch: 9 / 20, Cost: 0.012959\n",
      "Epoch: 10 / 20, Cost: 0.013086\n",
      "Epoch: 11 / 20, Cost: 0.010228\n",
      "Epoch: 12 / 20, Cost: 0.010833\n",
      "Epoch: 13 / 20, Cost: 0.008551\n",
      "Epoch: 14 / 20, Cost: 0.007611\n",
      "Epoch: 15 / 20, Cost: 0.007190\n",
      "Epoch: 16 / 20, Cost: 0.006507\n",
      "Epoch: 17 / 20, Cost: 0.007441\n",
      "Epoch: 18 / 20, Cost: 0.005674\n",
      "Epoch: 19 / 20, Cost: 0.004650\n",
      "Epoch: 20 / 20, Cost: 0.006838\n"
     ]
    }
   ],
   "metadata": {}
  },
  {
   "cell_type": "code",
   "execution_count": 26,
   "source": [
    "#Test model and Check Accuracy\r\n",
    "\r\n",
    "with torch.no_grad():\r\n",
    "\r\n",
    "    X = mnist_test.data.view(len(mnist_test), 1, 28, 28).float().to(device)\r\n",
    "    Y = mnist_test.targets.to(device)\r\n",
    "\r\n",
    "    #prediction\r\n",
    "    pred = model(X)\r\n",
    "    correct_prediction = (torch.argmax(pred, 1) == Y)\r\n",
    "    accuracy = correct_prediction.float().mean()\r\n",
    "    \r\n",
    "    print('Accuracy: ', accuracy.item())"
   ],
   "outputs": [
    {
     "output_type": "stream",
     "name": "stdout",
     "text": [
      "Accuracy:  0.9656999707221985\n"
     ]
    }
   ],
   "metadata": {}
  }
 ],
 "metadata": {
  "orig_nbformat": 4,
  "language_info": {
   "name": "python",
   "version": "3.8.8",
   "mimetype": "text/x-python",
   "codemirror_mode": {
    "name": "ipython",
    "version": 3
   },
   "pygments_lexer": "ipython3",
   "nbconvert_exporter": "python",
   "file_extension": ".py"
  },
  "kernelspec": {
   "name": "python3",
   "display_name": "Python 3.8.8 64-bit ('buddhalight': conda)"
  },
  "interpreter": {
   "hash": "38ed4d61829b01de31b0fe0651719916120d9f7e023a62cbbfea93b7d24a50a0"
  }
 },
 "nbformat": 4,
 "nbformat_minor": 2
}